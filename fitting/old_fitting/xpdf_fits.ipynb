{
 "cells": [
  {
   "cell_type": "code",
   "execution_count": 1,
   "metadata": {
    "id": "Q68HMmbiuB57"
   },
   "outputs": [],
   "source": [
    "from scipy.optimize import curve_fit\n",
    "import numpy as np\n",
    "import matplotlib.pyplot as plt\n",
    "import glob\n",
    "import pandas as pd\n",
    "import os"
   ]
  },
  {
   "cell_type": "code",
   "execution_count": 2,
   "metadata": {},
   "outputs": [
    {
     "data": {
      "text/plain": [
       "0"
      ]
     },
     "execution_count": 2,
     "metadata": {},
     "output_type": "execute_result"
    }
   ],
   "source": [
    "os.system(\"rm -r graphs parameters\")"
   ]
  },
  {
   "cell_type": "code",
   "execution_count": 3,
   "metadata": {
    "id": "lZTeSXhWKbc1"
   },
   "outputs": [],
   "source": [
    "!mkdir graphs parameters"
   ]
  },
  {
   "cell_type": "markdown",
   "metadata": {
    "id": "LKlBGhEdbmhz"
   },
   "source": [
    "## The datafiles are located in /opt/qcdnum-17-01-14/output/"
   ]
  },
  {
   "cell_type": "code",
   "execution_count": 4,
   "metadata": {
    "id": "YQXeXaaC1Sp8"
   },
   "outputs": [],
   "source": [
    "#def x_pdf_original(x, A, B, C , D, E, F, G,H):\n",
    "#    return A*(x+1)**B*(-x)**C*(1 + (D*(x+1)) + (E*(x+1)**2) + F*np.log(x+1) + G*np.log(x+1)**2)+H"
   ]
  },
  {
   "cell_type": "code",
   "execution_count": 5,
   "metadata": {},
   "outputs": [],
   "source": [
    "def x_pdf(x, A, B, C , D, E, F, G):\n",
    "    return A*x**B*(1-x)**C*(1 + D*x + E*x**2 + F*np.log(x) + G*np.log(x)**2)"
   ]
  },
  {
   "cell_type": "code",
   "execution_count": 6,
   "metadata": {},
   "outputs": [],
   "source": [
    "#change of variable\n",
    "#def x_pdf(x, A, B, C , D, E, F, G,H):\n",
    "#    u = np.log(x)\n",
    "#    return A*np.exp(B,u)*(1-np.exp(u))**C *(1 + D*np.exp(u) + E*(np.exp(u))**2 + F*u + G*u**2)"
   ]
  },
  {
   "cell_type": "code",
   "execution_count": 7,
   "metadata": {
    "id": "TCGevTYQ3uiG"
   },
   "outputs": [],
   "source": [
    "initial_conditions = pd.DataFrame(\n",
    "    {\n",
    "      #            A         ,  B  ,    C ,  D  ,  E ,  F    ,   G\n",
    "      'uv':[10.19304899633023, 0.76,   4.6, 0.0 , 2.6, 0.35  , 0.049],\n",
    "     'dv': [5.564255181349489, 0.99,   4.7, 0.0 , 0.0, 0.0   , 0.0],\n",
    "     'ubar':[    0.14        , -0.33,  11 , 18  , 0.0, 0.071 , 0.0],\n",
    "     'dbar':[    0.14        , -0.33,  24 , 38  , 0.0, 0.071 , 0.0],\n",
    "     'gl':[0.872978687751462, -0.52,  4.5, 0.0 , 0.0, 0.217 , 0.0112]\n",
    "    }\n",
    ")\n",
    "# A_dbar, B_dbar, C_dbar, D_dbar, F_dbar = 0.14, -0.33, 24, 38, 0.071 "
   ]
  },
  {
   "cell_type": "code",
   "execution_count": 8,
   "metadata": {
    "colab": {
     "base_uri": "https://localhost:8080/",
     "height": 269
    },
    "id": "PsXvinddB2E2",
    "outputId": "be1c6d84-b92f-4318-ffac-ccc1cf18f0cc"
   },
   "outputs": [
    {
     "data": {
      "text/html": [
       "<div>\n",
       "<style scoped>\n",
       "    .dataframe tbody tr th:only-of-type {\n",
       "        vertical-align: middle;\n",
       "    }\n",
       "\n",
       "    .dataframe tbody tr th {\n",
       "        vertical-align: top;\n",
       "    }\n",
       "\n",
       "    .dataframe thead th {\n",
       "        text-align: right;\n",
       "    }\n",
       "</style>\n",
       "<table border=\"1\" class=\"dataframe\">\n",
       "  <thead>\n",
       "    <tr style=\"text-align: right;\">\n",
       "      <th></th>\n",
       "      <th>uv</th>\n",
       "      <th>dv</th>\n",
       "      <th>ubar</th>\n",
       "      <th>dbar</th>\n",
       "      <th>gl</th>\n",
       "    </tr>\n",
       "  </thead>\n",
       "  <tbody>\n",
       "    <tr>\n",
       "      <th>0</th>\n",
       "      <td>10.193049</td>\n",
       "      <td>5.564255</td>\n",
       "      <td>0.140</td>\n",
       "      <td>0.140</td>\n",
       "      <td>0.872979</td>\n",
       "    </tr>\n",
       "    <tr>\n",
       "      <th>1</th>\n",
       "      <td>0.760000</td>\n",
       "      <td>0.990000</td>\n",
       "      <td>-0.330</td>\n",
       "      <td>-0.330</td>\n",
       "      <td>-0.520000</td>\n",
       "    </tr>\n",
       "    <tr>\n",
       "      <th>2</th>\n",
       "      <td>4.600000</td>\n",
       "      <td>4.700000</td>\n",
       "      <td>11.000</td>\n",
       "      <td>24.000</td>\n",
       "      <td>4.500000</td>\n",
       "    </tr>\n",
       "    <tr>\n",
       "      <th>3</th>\n",
       "      <td>0.000000</td>\n",
       "      <td>0.000000</td>\n",
       "      <td>18.000</td>\n",
       "      <td>38.000</td>\n",
       "      <td>0.000000</td>\n",
       "    </tr>\n",
       "    <tr>\n",
       "      <th>4</th>\n",
       "      <td>2.600000</td>\n",
       "      <td>0.000000</td>\n",
       "      <td>0.000</td>\n",
       "      <td>0.000</td>\n",
       "      <td>0.000000</td>\n",
       "    </tr>\n",
       "    <tr>\n",
       "      <th>5</th>\n",
       "      <td>0.350000</td>\n",
       "      <td>0.000000</td>\n",
       "      <td>0.071</td>\n",
       "      <td>0.071</td>\n",
       "      <td>0.217000</td>\n",
       "    </tr>\n",
       "    <tr>\n",
       "      <th>6</th>\n",
       "      <td>0.049000</td>\n",
       "      <td>0.000000</td>\n",
       "      <td>0.000</td>\n",
       "      <td>0.000</td>\n",
       "      <td>0.011200</td>\n",
       "    </tr>\n",
       "  </tbody>\n",
       "</table>\n",
       "</div>"
      ],
      "text/plain": [
       "          uv        dv    ubar    dbar        gl\n",
       "0  10.193049  5.564255   0.140   0.140  0.872979\n",
       "1   0.760000  0.990000  -0.330  -0.330 -0.520000\n",
       "2   4.600000  4.700000  11.000  24.000  4.500000\n",
       "3   0.000000  0.000000  18.000  38.000  0.000000\n",
       "4   2.600000  0.000000   0.000   0.000  0.000000\n",
       "5   0.350000  0.000000   0.071   0.071  0.217000\n",
       "6   0.049000  0.000000   0.000   0.000  0.011200"
      ]
     },
     "execution_count": 8,
     "metadata": {},
     "output_type": "execute_result"
    }
   ],
   "source": [
    "initial_conditions"
   ]
  },
  {
   "cell_type": "code",
   "execution_count": 9,
   "metadata": {},
   "outputs": [
    {
     "name": "stderr",
     "output_type": "stream",
     "text": [
      "/tmp/ipykernel_22828/630181234.py:2: RuntimeWarning: divide by zero encountered in power\n",
      "  return A*x**B*(1-x)**C*(1 + D*x + E*x**2 + F*np.log(x) + G*np.log(x)**2)\n",
      "/tmp/ipykernel_22828/630181234.py:2: RuntimeWarning: divide by zero encountered in log\n",
      "  return A*x**B*(1-x)**C*(1 + D*x + E*x**2 + F*np.log(x) + G*np.log(x)**2)\n",
      "/tmp/ipykernel_22828/630181234.py:2: RuntimeWarning: invalid value encountered in multiply\n",
      "  return A*x**B*(1-x)**C*(1 + D*x + E*x**2 + F*np.log(x) + G*np.log(x)**2)\n"
     ]
    },
    {
     "data": {
      "text/plain": [
       "[<matplotlib.lines.Line2D at 0x7f329ea0b460>]"
      ]
     },
     "execution_count": 9,
     "metadata": {},
     "output_type": "execute_result"
    },
    {
     "data": {
      "image/png": "[encoded data removed]",
      "text/plain": [
       "<Figure size 432x288 with 1 Axes>"
      ]
     },
     "metadata": {
      "needs_background": "light"
     },
     "output_type": "display_data"
    }
   ],
   "source": [
    "#x_init = 5.2427e-4\n",
    "x_init = 0\n",
    "x = np.linspace(x_init,1)\n",
    "y = x_pdf(x, *initial_conditions['dbar'])\n",
    "\n",
    "plt.figure()\n",
    "plt.xscale(\"log\")\n",
    "plt.plot(x,y)"
   ]
  },
  {
   "cell_type": "code",
   "execution_count": 10,
   "metadata": {},
   "outputs": [],
   "source": [
    "directories = initial_conditions.columns\n",
    "for d in directories:\n",
    "    os.mkdir(f'graphs/{d}')"
   ]
  },
  {
   "cell_type": "code",
   "execution_count": 11,
   "metadata": {
    "id": "YdmGDbAuMIBJ"
   },
   "outputs": [],
   "source": [
    "initial_conditions.to_csv('parameters/0.csv', index=False)"
   ]
  },
  {
   "cell_type": "code",
   "execution_count": 12,
   "metadata": {
    "id": "uikC17fDKYm8"
   },
   "outputs": [],
   "source": [
    "data_paths = glob.glob('/opt/qcdnum-17-01-14/output/*.csv')"
   ]
  },
  {
   "cell_type": "code",
   "execution_count": 13,
   "metadata": {
    "colab": {
     "base_uri": "https://localhost:8080/"
    },
    "id": "LxS1tP8JTIFg",
    "outputId": "f5894deb-2cac-46f8-ae81-a46a1f81d921"
   },
   "outputs": [
    {
     "data": {
      "text/plain": [
       "['/opt/qcdnum-17-01-14/output/pruebaCxx_q_2.560000.csv',\n",
       " '/opt/qcdnum-17-01-14/output/pruebaCxx_q_7000.000000.csv',\n",
       " '/opt/qcdnum-17-01-14/output/pruebaCxx_q_140.000000.csv',\n",
       " '/opt/qcdnum-17-01-14/output/pruebaCxx_q_100000000.000000.csv',\n",
       " '/opt/qcdnum-17-01-14/output/pruebaCxx_q_10000.000000.csv',\n",
       " '/opt/qcdnum-17-01-14/output/pruebaCxx_q_100000.000000.csv',\n",
       " '/opt/qcdnum-17-01-14/output/pruebaCxx_q_1000000000.000000.csv',\n",
       " '/opt/qcdnum-17-01-14/output/pruebaCxx_q_5.000000.csv',\n",
       " '/opt/qcdnum-17-01-14/output/pruebaCxx_q_1000000.000000.csv',\n",
       " '/opt/qcdnum-17-01-14/output/pruebaCxx_q_1000.000000.csv',\n",
       " '/opt/qcdnum-17-01-14/output/pruebaCxx_q_10000000000.000000.csv',\n",
       " '/opt/qcdnum-17-01-14/output/pruebaCxx_q_70.000000.csv',\n",
       " '/opt/qcdnum-17-01-14/output/pruebaCxx_q_170.000000.csv',\n",
       " '/opt/qcdnum-17-01-14/output/pruebaCxx_q_10.000000.csv',\n",
       " '/opt/qcdnum-17-01-14/output/pruebaCxx_q_40.000000.csv',\n",
       " '/opt/qcdnum-17-01-14/output/pruebaCxx_q_10000000.000000.csv',\n",
       " '/opt/qcdnum-17-01-14/output/pruebaCxx_q_5000.000000.csv',\n",
       " '/opt/qcdnum-17-01-14/output/pruebaCxx_q_100.000000.csv']"
      ]
     },
     "execution_count": 13,
     "metadata": {},
     "output_type": "execute_result"
    }
   ],
   "source": [
    "data_paths"
   ]
  },
  {
   "cell_type": "code",
   "execution_count": 14,
   "metadata": {},
   "outputs": [
    {
     "data": {
      "text/plain": [
       "['/opt/qcdnum-17-01-14/output/pruebaCxx_q_7000.000000.csv',\n",
       " '/opt/qcdnum-17-01-14/output/pruebaCxx_q_140.000000.csv',\n",
       " '/opt/qcdnum-17-01-14/output/pruebaCxx_q_100000000.000000.csv',\n",
       " '/opt/qcdnum-17-01-14/output/pruebaCxx_q_10000.000000.csv',\n",
       " '/opt/qcdnum-17-01-14/output/pruebaCxx_q_100000.000000.csv',\n",
       " '/opt/qcdnum-17-01-14/output/pruebaCxx_q_1000000000.000000.csv',\n",
       " '/opt/qcdnum-17-01-14/output/pruebaCxx_q_5.000000.csv',\n",
       " '/opt/qcdnum-17-01-14/output/pruebaCxx_q_1000000.000000.csv',\n",
       " '/opt/qcdnum-17-01-14/output/pruebaCxx_q_1000.000000.csv',\n",
       " '/opt/qcdnum-17-01-14/output/pruebaCxx_q_10000000000.000000.csv',\n",
       " '/opt/qcdnum-17-01-14/output/pruebaCxx_q_70.000000.csv',\n",
       " '/opt/qcdnum-17-01-14/output/pruebaCxx_q_170.000000.csv',\n",
       " '/opt/qcdnum-17-01-14/output/pruebaCxx_q_10.000000.csv',\n",
       " '/opt/qcdnum-17-01-14/output/pruebaCxx_q_40.000000.csv',\n",
       " '/opt/qcdnum-17-01-14/output/pruebaCxx_q_10000000.000000.csv',\n",
       " '/opt/qcdnum-17-01-14/output/pruebaCxx_q_5000.000000.csv',\n",
       " '/opt/qcdnum-17-01-14/output/pruebaCxx_q_100.000000.csv']"
      ]
     },
     "execution_count": 14,
     "metadata": {},
     "output_type": "execute_result"
    }
   ],
   "source": [
    "# excluding the initial energy file\n",
    "data_paths = data_paths[1:]\n",
    "data_paths"
   ]
  },
  {
   "cell_type": "code",
   "execution_count": 15,
   "metadata": {
    "id": "T0QPWVZzTUkR"
   },
   "outputs": [],
   "source": [
    "def get_q2_from_file_path(x):\n",
    "    q2 = x.split('/')[-1]\n",
    "    q2 = q2.replace('pruebaCxx_q_','').replace('.csv','').split('.')[0]\n",
    "\n",
    "    return int(q2)"
   ]
  },
  {
   "cell_type": "code",
   "execution_count": 16,
   "metadata": {
    "colab": {
     "base_uri": "https://localhost:8080/"
    },
    "id": "Fyu8Oar5Tf6o",
    "outputId": "aa023eb7-6ee2-44b7-9fe1-ce2b2bcc3398"
   },
   "outputs": [
    {
     "data": {
      "text/plain": [
       "['/opt/qcdnum-17-01-14/output/pruebaCxx_q_5.000000.csv',\n",
       " '/opt/qcdnum-17-01-14/output/pruebaCxx_q_10.000000.csv',\n",
       " '/opt/qcdnum-17-01-14/output/pruebaCxx_q_40.000000.csv',\n",
       " '/opt/qcdnum-17-01-14/output/pruebaCxx_q_70.000000.csv',\n",
       " '/opt/qcdnum-17-01-14/output/pruebaCxx_q_100.000000.csv',\n",
       " '/opt/qcdnum-17-01-14/output/pruebaCxx_q_140.000000.csv',\n",
       " '/opt/qcdnum-17-01-14/output/pruebaCxx_q_170.000000.csv',\n",
       " '/opt/qcdnum-17-01-14/output/pruebaCxx_q_1000.000000.csv',\n",
       " '/opt/qcdnum-17-01-14/output/pruebaCxx_q_5000.000000.csv',\n",
       " '/opt/qcdnum-17-01-14/output/pruebaCxx_q_7000.000000.csv',\n",
       " '/opt/qcdnum-17-01-14/output/pruebaCxx_q_10000.000000.csv',\n",
       " '/opt/qcdnum-17-01-14/output/pruebaCxx_q_100000.000000.csv',\n",
       " '/opt/qcdnum-17-01-14/output/pruebaCxx_q_1000000.000000.csv',\n",
       " '/opt/qcdnum-17-01-14/output/pruebaCxx_q_10000000.000000.csv',\n",
       " '/opt/qcdnum-17-01-14/output/pruebaCxx_q_100000000.000000.csv',\n",
       " '/opt/qcdnum-17-01-14/output/pruebaCxx_q_1000000000.000000.csv',\n",
       " '/opt/qcdnum-17-01-14/output/pruebaCxx_q_10000000000.000000.csv']"
      ]
     },
     "execution_count": 16,
     "metadata": {},
     "output_type": "execute_result"
    }
   ],
   "source": [
    "data_paths=sorted(data_paths, key=get_q2_from_file_path, reverse=False)\n",
    "data_paths"
   ]
  },
  {
   "cell_type": "code",
   "execution_count": 17,
   "metadata": {
    "colab": {
     "base_uri": "https://localhost:8080/"
    },
    "id": "37S_uwFQCCOv",
    "outputId": "2d02b9ad-10ea-405b-df14-8c9235197720"
   },
   "outputs": [
    {
     "name": "stdout",
     "output_type": "stream",
     "text": [
      "0.0 %\n",
      "/opt/qcdnum-17-01-14/output/pruebaCxx_q_5.000000.csv\n",
      "5\n",
      "5.882352941176471 %\n",
      "/opt/qcdnum-17-01-14/output/pruebaCxx_q_10.000000.csv\n",
      "10\n",
      "11.764705882352942 %\n",
      "/opt/qcdnum-17-01-14/output/pruebaCxx_q_40.000000.csv\n",
      "40\n",
      "17.647058823529413 %\n",
      "/opt/qcdnum-17-01-14/output/pruebaCxx_q_70.000000.csv\n",
      "70\n",
      "23.529411764705884 %\n",
      "/opt/qcdnum-17-01-14/output/pruebaCxx_q_100.000000.csv\n",
      "100\n",
      "29.41176470588235 %\n",
      "/opt/qcdnum-17-01-14/output/pruebaCxx_q_140.000000.csv\n",
      "140\n",
      "35.294117647058826 %\n",
      "/opt/qcdnum-17-01-14/output/pruebaCxx_q_170.000000.csv\n",
      "170\n",
      "41.1764705882353 %\n",
      "/opt/qcdnum-17-01-14/output/pruebaCxx_q_1000.000000.csv\n",
      "1000\n",
      "47.05882352941177 %\n",
      "/opt/qcdnum-17-01-14/output/pruebaCxx_q_5000.000000.csv\n",
      "5000\n",
      "52.94117647058823 %\n",
      "/opt/qcdnum-17-01-14/output/pruebaCxx_q_7000.000000.csv\n",
      "7000\n",
      "58.8235294117647 %\n",
      "/opt/qcdnum-17-01-14/output/pruebaCxx_q_10000.000000.csv\n",
      "10000\n",
      "64.70588235294117 %\n",
      "/opt/qcdnum-17-01-14/output/pruebaCxx_q_100000.000000.csv\n",
      "100000\n",
      "70.58823529411765 %\n",
      "/opt/qcdnum-17-01-14/output/pruebaCxx_q_1000000.000000.csv\n",
      "1000000\n",
      "76.47058823529412 %\n",
      "/opt/qcdnum-17-01-14/output/pruebaCxx_q_10000000.000000.csv\n",
      "10000000\n",
      "82.3529411764706 %\n",
      "/opt/qcdnum-17-01-14/output/pruebaCxx_q_100000000.000000.csv\n",
      "100000000\n",
      "88.23529411764706 %\n",
      "/opt/qcdnum-17-01-14/output/pruebaCxx_q_1000000000.000000.csv\n",
      "1000000000\n",
      "94.11764705882354 %\n",
      "/opt/qcdnum-17-01-14/output/pruebaCxx_q_10000000000.000000.csv\n",
      "10000000000\n"
     ]
    }
   ],
   "source": [
    "# initial old parameter file path\n",
    "old_parameters_file_path = 'parameters/0.csv'\n",
    "\n",
    "for k, file_path in enumerate(data_paths):\n",
    "    print(100*k/len(data_paths), '%')\n",
    "    \n",
    "    print(file_path)\n",
    "    q2 = get_q2_from_file_path(file_path)\n",
    "    print(q2)\n",
    "    initial_conditions=pd.read_csv(old_parameters_file_path)\n",
    "    data = pd.read_csv(file_path, delimiter=' ')\n",
    "    title_data = data.columns[1:]\n",
    "    fitted_conditions = {}\n",
    "\n",
    "    for i, parameter in enumerate(initial_conditions.columns):\n",
    "        #print(parameter)\n",
    "        y = data['x'+parameter]\n",
    "        x = data['x']\n",
    "        #print(parameter)\n",
    "    \n",
    "        try:\n",
    "            initial_parameters = initial_conditions[parameter]\n",
    "            fitted_parameters,_= curve_fit(x_pdf,x,y, p0=initial_parameters, maxfev=1000)\n",
    "            fitted_conditions[parameter] = fitted_parameters\n",
    "            plt.figure()\n",
    "            plt.plot(x,y, label = 'data')\n",
    "            plt.plot(x,x_pdf(x,*fitted_parameters), label='fit', alpha = 0.5)\n",
    "            plt.plot(x,x_pdf(x,*initial_parameters), label='initial', alpha = 0.5)\n",
    "            plt.ylim(-0.1,1.1)\n",
    "            plt.xscale(\"log\")\n",
    "            plt.legend()\n",
    "            #plt.ioff()\n",
    "            image_name = f'graphs/{parameter}/q2_{q2}_param_{parameter}.png'\n",
    "            plt.savefig(image_name)\n",
    "            plt.close()\n",
    "\n",
    "        except:\n",
    "\n",
    "            for j in range(10):\n",
    "                rango = 3\n",
    "                variation = np.random.random(7)*rango - rango\n",
    "                initial_parameters = initial_conditions[parameter]\n",
    "                initial_parameters_variados = initial_conditions[parameter] + variation\n",
    "\n",
    "                try: \n",
    "                    fitted_parameters,_= curve_fit(x_pdf,x,y, p0=initial_parameters_variados, maxfev=1000)\n",
    "                    fitted_conditions[parameter] = fitted_parameters\n",
    "                    #print('parametros encontrados!')\n",
    "                    plt.figure()\n",
    "                    plt.plot(x,y, label = 'data')\n",
    "                    plt.plot(x,x_pdf(x,*fitted_parameters), label='fit', alpha=0.5)\n",
    "                    plt.plot(x,x_pdf(x,*initial_parameters), label='inicial', alpha=0.5)\n",
    "                    #plt.ylim(-0.1,1.1)\n",
    "                    plt.legend()\n",
    "                    plt.xscale(\"log\")\n",
    "                    #plt.ioff()\n",
    "                    image_name = f'graphs/{parameter}/q2_{q2}_param_{parameter}.png'\n",
    "                    plt.savefig(image_name)\n",
    "                    plt.close()\n",
    "                    with open('problemas.txt', 'a') as f:\n",
    "                        f.write(f'El parametro {parameter} de los datos {file_path} se logró fittear, pero con algunos problemas, revisar la imagen {image_name}\\n')\n",
    "                    break\n",
    "                except:\n",
    "                  #print('No se encontraron los parametros en la iteracion {}'.format(j))\n",
    "                    if j==9:\n",
    "                        with open('problemas.txt', 'a') as f:\n",
    "                            f.write(f'No se logro fittear la funcion para el parametro {parameter} de los datos {file_path}\\n')\n",
    "                        fitted_conditions[parameter] = [0]*7\n",
    "\n",
    "    fitted_conditions = pd.DataFrame(fitted_conditions)\n",
    "    fitted_conditions.to_csv(f'parameters/{q2}.csv', index=False)\n",
    "    old_parameters_file_path = f'parameters/{q2}.csv'"
   ]
  },
  {
   "cell_type": "code",
   "execution_count": 18,
   "metadata": {
    "scrolled": true
   },
   "outputs": [
    {
     "ename": "KeyboardInterrupt",
     "evalue": "",
     "output_type": "error",
     "traceback": [
      "\u001b[0;31m---------------------------------------------------------------------------\u001b[0m",
      "\u001b[0;31mKeyboardInterrupt\u001b[0m                         Traceback (most recent call last)",
      "Input \u001b[0;32mIn [18]\u001b[0m, in \u001b[0;36m<cell line: 2>\u001b[0;34m()\u001b[0m\n\u001b[1;32m      1\u001b[0m \u001b[38;5;28;01mfrom\u001b[39;00m \u001b[38;5;21;01mplaysound\u001b[39;00m \u001b[38;5;28;01mimport\u001b[39;00m playsound\n\u001b[0;32m----> 2\u001b[0m \u001b[43mplaysound\u001b[49m\u001b[43m(\u001b[49m\u001b[38;5;124;43m\"\u001b[39;49m\u001b[38;5;124;43m/home/angelica/Downloads/Creepy-background-music/Creepy-background-music.mp3\u001b[39;49m\u001b[38;5;124;43m\"\u001b[39;49m\u001b[43m)\u001b[49m\n\u001b[1;32m      3\u001b[0m \u001b[38;5;28mprint\u001b[39m(\u001b[38;5;124m\"\u001b[39m\u001b[38;5;124mDone :)\u001b[39m\u001b[38;5;124m\"\u001b[39m)\n",
      "File \u001b[0;32m~/.local/lib/python3.10/site-packages/playsound.py:189\u001b[0m, in \u001b[0;36m_playsoundNix\u001b[0;34m(sound, block)\u001b[0m\n\u001b[1;32m    187\u001b[0m bus \u001b[38;5;241m=\u001b[39m playbin\u001b[38;5;241m.\u001b[39mget_bus()\n\u001b[1;32m    188\u001b[0m \u001b[38;5;28;01mtry\u001b[39;00m:\n\u001b[0;32m--> 189\u001b[0m     \u001b[43mbus\u001b[49m\u001b[38;5;241;43m.\u001b[39;49m\u001b[43mpoll\u001b[49m\u001b[43m(\u001b[49m\u001b[43mGst\u001b[49m\u001b[38;5;241;43m.\u001b[39;49m\u001b[43mMessageType\u001b[49m\u001b[38;5;241;43m.\u001b[39;49m\u001b[43mEOS\u001b[49m\u001b[43m,\u001b[49m\u001b[43m \u001b[49m\u001b[43mGst\u001b[49m\u001b[38;5;241;43m.\u001b[39;49m\u001b[43mCLOCK_TIME_NONE\u001b[49m\u001b[43m)\u001b[49m\n\u001b[1;32m    190\u001b[0m \u001b[38;5;28;01mfinally\u001b[39;00m:\n\u001b[1;32m    191\u001b[0m     playbin\u001b[38;5;241m.\u001b[39mset_state(Gst\u001b[38;5;241m.\u001b[39mState\u001b[38;5;241m.\u001b[39mNULL)\n",
      "\u001b[0;31mKeyboardInterrupt\u001b[0m: "
     ]
    }
   ],
   "source": [
    "from playsound import playsound\n",
    "#playsound(\"/home/angelica/Downloads/Creepy-background-music/Creepy-background-music.mp3\")\n",
    "print(\"Done :)\")"
   ]
  },
  {
   "cell_type": "code",
   "execution_count": null,
   "metadata": {},
   "outputs": [],
   "source": [
    "data = pd.read_csv('/opt/qcdnum-17-01-14/output/pruebaCxx_q_7000.000000.csv', delimiter=' ')"
   ]
  },
  {
   "cell_type": "code",
   "execution_count": null,
   "metadata": {},
   "outputs": [],
   "source": [
    "data.head()"
   ]
  },
  {
   "cell_type": "code",
   "execution_count": null,
   "metadata": {
    "scrolled": false
   },
   "outputs": [],
   "source": [
    "q2 = get_q2_from_file_path('/opt/qcdnum-17-01-14/output/pruebaCxx_q_7000.000000.csv')\n",
    "print(q2)\n",
    "old_parameters_file_path = 'parameters/0.csv'\n",
    "initial_conditions=pd.read_csv(old_parameters_file_path)\n",
    "initial_conditions = pd.read_csv('parameters/0.csv')\n",
    "fitted_conditions = {}\n",
    "for i, parameter in enumerate(initial_conditions.columns):\n",
    "    print(parameter)\n",
    "    y = data['x'+parameter]\n",
    "    x = data['x']\n",
    "    print(parameter)\n",
    "\n",
    "    initial_parameters = initial_conditions[parameter]\n",
    "    fitted_parameters,_= curve_fit(x_pdf,x,y, p0=initial_parameters, maxfev=3000)\n",
    "    fitted_conditions[parameter] = fitted_parameters\n",
    "    plt.figure()\n",
    "    plt.plot(x,y, label = 'data')\n",
    "    plt.plot(x,x_pdf(x,*fitted_parameters), label='fit')\n",
    "    plt.plot(x,x_pdf(x,*initial_parameters), label='initial')\n",
    "    plt.ylim(-0.1,1.1)\n",
    "    plt.xscale(\"log\")\n",
    "    plt.legend()\n",
    "    #plt.ioff()\n",
    "    image_name = f'graphs/{parameter}/q2_{q2}_param_{parameter}.png'\n",
    "    plt.title(parameter)\n",
    "    #plt.savefig(image_name)\n"
   ]
  },
  {
   "cell_type": "code",
   "execution_count": null,
   "metadata": {},
   "outputs": [],
   "source": []
  }
 ],
 "metadata": {
  "colab": {
   "name": "prueba_gatota.ipynb",
   "provenance": []
  },
  "kernelspec": {
   "display_name": "Python 3 (ipykernel)",
   "language": "python",
   "name": "python3"
  },
  "language_info": {
   "codemirror_mode": {
    "name": "ipython",
    "version": 3
   },
   "file_extension": ".py",
   "mimetype": "text/x-python",
   "name": "python",
   "nbconvert_exporter": "python",
   "pygments_lexer": "ipython3",
   "version": "3.10.2"
  }
 },
 "nbformat": 4,
 "nbformat_minor": 1
}
