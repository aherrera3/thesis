{
 "cells": [
  {
   "cell_type": "code",
   "execution_count": 1,
   "metadata": {
    "id": "Q68HMmbiuB57"
   },
   "outputs": [],
   "source": [
    "from scipy.optimize import curve_fit\n",
    "import numpy as np\n",
    "import matplotlib.pyplot as plt\n",
    "import glob\n",
    "import pandas as pd"
   ]
  },
  {
   "cell_type": "code",
   "execution_count": 2,
   "metadata": {
    "id": "lZTeSXhWKbc1"
   },
   "outputs": [],
   "source": [
    "!mkdir graphs parameters"
   ]
  },
  {
   "cell_type": "markdown",
   "metadata": {
    "id": "LKlBGhEdbmhz"
   },
   "source": [
    "## The datafiles are located in /opt/qcdnum-17-01-14/output/"
   ]
  },
  {
   "cell_type": "code",
   "execution_count": 3,
   "metadata": {
    "id": "YQXeXaaC1Sp8"
   },
   "outputs": [],
   "source": [
    "def x_pdf(x, A, B, C , D, E, F, G):\n",
    "\treturn A*x**B*(1-x)**C*(1 + D*x + E*x**2 + F*np.log(x) + G*np.log(x)**2)"
   ]
  },
  {
   "cell_type": "code",
   "execution_count": 4,
   "metadata": {
    "id": "TCGevTYQ3uiG"
   },
   "outputs": [],
   "source": [
    "initial_conditions = pd.DataFrame(\n",
    "    {\n",
    "      #            A         ,  B  ,    C ,  D  ,  E ,  F    ,   G   \n",
    "      'uv':[10.19304899633023, 0.76,   4.6, 0.0 , 2.6, 0.35  , 0.049 ],\n",
    "     'dv': [5.564255181349489, 0.99,   4.7, 0.0 , 0.0, 0.0   , 0.0],\n",
    "     'ubar':[    0.14        , -0.33,  11 , 18  , 0.0, 0.071 , 0.0],\n",
    "     'dbar':[    0.14        , -0.33,  24 , 38  , 0.0, 0.071 , 0.0 ],\n",
    "     'gl':[0.872978687751462, -0.52,  4.5, 0.0 , 0.0, 0.217 , 0.0112]\n",
    "    }\n",
    ")"
   ]
  },
  {
   "cell_type": "code",
   "execution_count": 5,
   "metadata": {
    "colab": {
     "base_uri": "https://localhost:8080/",
     "height": 269
    },
    "id": "PsXvinddB2E2",
    "outputId": "be1c6d84-b92f-4318-ffac-ccc1cf18f0cc"
   },
   "outputs": [
    {
     "data": {
      "text/html": [
       "<div>\n",
       "<style scoped>\n",
       "    .dataframe tbody tr th:only-of-type {\n",
       "        vertical-align: middle;\n",
       "    }\n",
       "\n",
       "    .dataframe tbody tr th {\n",
       "        vertical-align: top;\n",
       "    }\n",
       "\n",
       "    .dataframe thead th {\n",
       "        text-align: right;\n",
       "    }\n",
       "</style>\n",
       "<table border=\"1\" class=\"dataframe\">\n",
       "  <thead>\n",
       "    <tr style=\"text-align: right;\">\n",
       "      <th></th>\n",
       "      <th>uv</th>\n",
       "      <th>dv</th>\n",
       "      <th>ubar</th>\n",
       "      <th>dbar</th>\n",
       "      <th>gl</th>\n",
       "    </tr>\n",
       "  </thead>\n",
       "  <tbody>\n",
       "    <tr>\n",
       "      <th>0</th>\n",
       "      <td>10.193049</td>\n",
       "      <td>5.564255</td>\n",
       "      <td>0.140</td>\n",
       "      <td>0.140</td>\n",
       "      <td>0.872979</td>\n",
       "    </tr>\n",
       "    <tr>\n",
       "      <th>1</th>\n",
       "      <td>0.760000</td>\n",
       "      <td>0.990000</td>\n",
       "      <td>-0.330</td>\n",
       "      <td>-0.330</td>\n",
       "      <td>-0.520000</td>\n",
       "    </tr>\n",
       "    <tr>\n",
       "      <th>2</th>\n",
       "      <td>4.600000</td>\n",
       "      <td>4.700000</td>\n",
       "      <td>11.000</td>\n",
       "      <td>24.000</td>\n",
       "      <td>4.500000</td>\n",
       "    </tr>\n",
       "    <tr>\n",
       "      <th>3</th>\n",
       "      <td>0.000000</td>\n",
       "      <td>0.000000</td>\n",
       "      <td>18.000</td>\n",
       "      <td>38.000</td>\n",
       "      <td>0.000000</td>\n",
       "    </tr>\n",
       "    <tr>\n",
       "      <th>4</th>\n",
       "      <td>2.600000</td>\n",
       "      <td>0.000000</td>\n",
       "      <td>0.000</td>\n",
       "      <td>0.000</td>\n",
       "      <td>0.000000</td>\n",
       "    </tr>\n",
       "    <tr>\n",
       "      <th>5</th>\n",
       "      <td>0.350000</td>\n",
       "      <td>0.000000</td>\n",
       "      <td>0.071</td>\n",
       "      <td>0.071</td>\n",
       "      <td>0.217000</td>\n",
       "    </tr>\n",
       "    <tr>\n",
       "      <th>6</th>\n",
       "      <td>0.049000</td>\n",
       "      <td>0.000000</td>\n",
       "      <td>0.000</td>\n",
       "      <td>0.000</td>\n",
       "      <td>0.011200</td>\n",
       "    </tr>\n",
       "  </tbody>\n",
       "</table>\n",
       "</div>"
      ],
      "text/plain": [
       "          uv        dv    ubar    dbar        gl\n",
       "0  10.193049  5.564255   0.140   0.140  0.872979\n",
       "1   0.760000  0.990000  -0.330  -0.330 -0.520000\n",
       "2   4.600000  4.700000  11.000  24.000  4.500000\n",
       "3   0.000000  0.000000  18.000  38.000  0.000000\n",
       "4   2.600000  0.000000   0.000   0.000  0.000000\n",
       "5   0.350000  0.000000   0.071   0.071  0.217000\n",
       "6   0.049000  0.000000   0.000   0.000  0.011200"
      ]
     },
     "execution_count": 5,
     "metadata": {},
     "output_type": "execute_result"
    }
   ],
   "source": [
    "initial_conditions"
   ]
  },
  {
   "cell_type": "code",
   "execution_count": 6,
   "metadata": {
    "id": "YdmGDbAuMIBJ"
   },
   "outputs": [],
   "source": [
    "initial_conditions.to_csv('parameters/10.csv', index=False)"
   ]
  },
  {
   "cell_type": "code",
   "execution_count": 7,
   "metadata": {
    "id": "uikC17fDKYm8"
   },
   "outputs": [],
   "source": [
    "data_paths = glob.glob('/opt/qcdnum-17-01-14/output/*.csv')"
   ]
  },
  {
   "cell_type": "code",
   "execution_count": 8,
   "metadata": {
    "colab": {
     "base_uri": "https://localhost:8080/"
    },
    "id": "LxS1tP8JTIFg",
    "outputId": "f5894deb-2cac-46f8-ae81-a46a1f81d921"
   },
   "outputs": [
    {
     "data": {
      "text/plain": [
       "['/opt/qcdnum-17-01-14/output/pruebaCxx_q_2.560000.csv',\n",
       " '/opt/qcdnum-17-01-14/output/pruebaCxx_q_100000000.000000.csv',\n",
       " '/opt/qcdnum-17-01-14/output/pruebaCxx_q_10000.000000.csv',\n",
       " '/opt/qcdnum-17-01-14/output/pruebaCxx_q_100000.000000.csv',\n",
       " '/opt/qcdnum-17-01-14/output/pruebaCxx_q_1000000000.000000.csv',\n",
       " '/opt/qcdnum-17-01-14/output/pruebaCxx_q_1000000.000000.csv',\n",
       " '/opt/qcdnum-17-01-14/output/pruebaCxx_q_1000.000000.csv',\n",
       " '/opt/qcdnum-17-01-14/output/pruebaCxx_q_10000000000.000000.csv',\n",
       " '/opt/qcdnum-17-01-14/output/pruebaCxx_q_10.000000.csv',\n",
       " '/opt/qcdnum-17-01-14/output/pruebaCxx_q_10000000.000000.csv',\n",
       " '/opt/qcdnum-17-01-14/output/pruebaCxx_q_100.000000.csv']"
      ]
     },
     "execution_count": 8,
     "metadata": {},
     "output_type": "execute_result"
    }
   ],
   "source": [
    "data_paths"
   ]
  },
  {
   "cell_type": "code",
   "execution_count": 9,
   "metadata": {
    "id": "T0QPWVZzTUkR"
   },
   "outputs": [],
   "source": [
    "def get_q2_from_file_path(x):\n",
    "  q2 = x.split('/')[-1]\n",
    "  q2 = q2.replace('pruebaCxx_q_','').replace('.csv','').split('.')[0]\n",
    "\n",
    "  return int(q2)"
   ]
  },
  {
   "cell_type": "code",
   "execution_count": 10,
   "metadata": {
    "colab": {
     "base_uri": "https://localhost:8080/"
    },
    "id": "Fyu8Oar5Tf6o",
    "outputId": "aa023eb7-6ee2-44b7-9fe1-ce2b2bcc3398"
   },
   "outputs": [
    {
     "data": {
      "text/plain": [
       "['/opt/qcdnum-17-01-14/output/pruebaCxx_q_2.560000.csv',\n",
       " '/opt/qcdnum-17-01-14/output/pruebaCxx_q_10.000000.csv',\n",
       " '/opt/qcdnum-17-01-14/output/pruebaCxx_q_100.000000.csv',\n",
       " '/opt/qcdnum-17-01-14/output/pruebaCxx_q_1000.000000.csv',\n",
       " '/opt/qcdnum-17-01-14/output/pruebaCxx_q_10000.000000.csv',\n",
       " '/opt/qcdnum-17-01-14/output/pruebaCxx_q_100000.000000.csv',\n",
       " '/opt/qcdnum-17-01-14/output/pruebaCxx_q_1000000.000000.csv',\n",
       " '/opt/qcdnum-17-01-14/output/pruebaCxx_q_10000000.000000.csv',\n",
       " '/opt/qcdnum-17-01-14/output/pruebaCxx_q_100000000.000000.csv',\n",
       " '/opt/qcdnum-17-01-14/output/pruebaCxx_q_1000000000.000000.csv',\n",
       " '/opt/qcdnum-17-01-14/output/pruebaCxx_q_10000000000.000000.csv']"
      ]
     },
     "execution_count": 10,
     "metadata": {},
     "output_type": "execute_result"
    }
   ],
   "source": [
    "data_paths=sorted(data_paths, key=get_q2_from_file_path, reverse=False)\n",
    "data_paths"
   ]
  },
  {
   "cell_type": "code",
   "execution_count": 11,
   "metadata": {
    "colab": {
     "base_uri": "https://localhost:8080/"
    },
    "id": "37S_uwFQCCOv",
    "outputId": "2d02b9ad-10ea-405b-df14-8c9235197720"
   },
   "outputs": [
    {
     "name": "stdout",
     "output_type": "stream",
     "text": [
      "0.0 %\n",
      "uv\n",
      "uv\n",
      "dv\n",
      "dv\n",
      "ubar\n",
      "ubar\n",
      "dbar\n",
      "dbar\n",
      "gl\n",
      "gl\n",
      "9.090909090909092 %\n",
      "uv\n",
      "uv\n",
      "dv\n",
      "dv\n",
      "ubar\n",
      "ubar\n",
      "dbar\n",
      "dbar\n",
      "gl\n",
      "gl\n",
      "18.181818181818183 %\n",
      "uv\n",
      "uv\n",
      "dv\n",
      "dv\n",
      "ubar\n",
      "ubar\n",
      "dbar\n",
      "dbar\n",
      "gl\n",
      "gl\n",
      "27.272727272727273 %\n",
      "uv\n",
      "uv\n",
      "dv\n",
      "dv\n",
      "ubar\n",
      "ubar\n",
      "dbar\n",
      "dbar\n",
      "gl\n",
      "gl\n",
      "36.36363636363637 %\n",
      "uv\n",
      "uv\n",
      "dv\n",
      "dv\n",
      "ubar\n",
      "ubar\n",
      "dbar\n",
      "dbar\n",
      "gl\n",
      "gl\n",
      "45.45454545454545 %\n",
      "uv\n",
      "uv\n",
      "dv\n",
      "dv\n",
      "ubar\n",
      "ubar\n"
     ]
    },
    {
     "name": "stderr",
     "output_type": "stream",
     "text": [
      "/home/angelica/.local/lib/python3.10/site-packages/scipy/optimize/_minpack_py.py:833: OptimizeWarning: Covariance of the parameters could not be estimated\n",
      "  warnings.warn('Covariance of the parameters could not be estimated',\n"
     ]
    },
    {
     "name": "stdout",
     "output_type": "stream",
     "text": [
      "dbar\n",
      "dbar\n",
      "gl\n",
      "gl\n",
      "54.54545454545455 %\n",
      "uv\n",
      "uv\n",
      "dv\n",
      "dv\n",
      "ubar\n",
      "ubar\n",
      "dbar\n",
      "dbar\n"
     ]
    },
    {
     "name": "stderr",
     "output_type": "stream",
     "text": [
      "/home/angelica/.local/lib/python3.10/site-packages/scipy/optimize/_minpack_py.py:833: OptimizeWarning: Covariance of the parameters could not be estimated\n",
      "  warnings.warn('Covariance of the parameters could not be estimated',\n"
     ]
    },
    {
     "name": "stdout",
     "output_type": "stream",
     "text": [
      "gl\n",
      "gl\n",
      "63.63636363636363 %\n",
      "uv\n",
      "uv\n",
      "dv\n",
      "dv\n",
      "ubar\n",
      "ubar\n",
      "dbar\n",
      "dbar\n"
     ]
    },
    {
     "name": "stderr",
     "output_type": "stream",
     "text": [
      "/home/angelica/.local/lib/python3.10/site-packages/scipy/optimize/_minpack_py.py:833: OptimizeWarning: Covariance of the parameters could not be estimated\n",
      "  warnings.warn('Covariance of the parameters could not be estimated',\n"
     ]
    },
    {
     "name": "stdout",
     "output_type": "stream",
     "text": [
      "gl\n",
      "gl\n",
      "72.72727272727273 %\n",
      "uv\n",
      "uv\n",
      "dv\n",
      "dv\n",
      "ubar\n",
      "ubar\n",
      "dbar\n",
      "dbar\n"
     ]
    },
    {
     "name": "stderr",
     "output_type": "stream",
     "text": [
      "/home/angelica/.local/lib/python3.10/site-packages/scipy/optimize/_minpack_py.py:833: OptimizeWarning: Covariance of the parameters could not be estimated\n",
      "  warnings.warn('Covariance of the parameters could not be estimated',\n"
     ]
    },
    {
     "name": "stdout",
     "output_type": "stream",
     "text": [
      "gl\n",
      "gl\n",
      "81.81818181818181 %\n",
      "uv\n",
      "uv\n",
      "dv\n",
      "dv\n",
      "ubar\n",
      "ubar\n"
     ]
    },
    {
     "name": "stderr",
     "output_type": "stream",
     "text": [
      "/home/angelica/.local/lib/python3.10/site-packages/scipy/optimize/_minpack_py.py:833: OptimizeWarning: Covariance of the parameters could not be estimated\n",
      "  warnings.warn('Covariance of the parameters could not be estimated',\n"
     ]
    },
    {
     "name": "stdout",
     "output_type": "stream",
     "text": [
      "dbar\n",
      "dbar\n",
      "gl\n",
      "gl\n",
      "90.9090909090909 %\n",
      "uv\n",
      "uv\n",
      "dv\n",
      "dv\n",
      "ubar\n",
      "ubar\n"
     ]
    },
    {
     "name": "stderr",
     "output_type": "stream",
     "text": [
      "/home/angelica/.local/lib/python3.10/site-packages/scipy/optimize/_minpack_py.py:833: OptimizeWarning: Covariance of the parameters could not be estimated\n",
      "  warnings.warn('Covariance of the parameters could not be estimated',\n"
     ]
    },
    {
     "name": "stdout",
     "output_type": "stream",
     "text": [
      "dbar\n",
      "dbar\n"
     ]
    },
    {
     "name": "stderr",
     "output_type": "stream",
     "text": [
      "/home/angelica/.local/lib/python3.10/site-packages/scipy/optimize/_minpack_py.py:833: OptimizeWarning: Covariance of the parameters could not be estimated\n",
      "  warnings.warn('Covariance of the parameters could not be estimated',\n"
     ]
    },
    {
     "name": "stdout",
     "output_type": "stream",
     "text": [
      "gl\n",
      "gl\n"
     ]
    }
   ],
   "source": [
    "old_parameters_file_path = 'parameters/10.csv'\n",
    "for k, file_path in enumerate(data_paths):\n",
    "  print(100*k/len(data_paths), '%')\n",
    "  q2 = get_q2_from_file_path(file_path)\n",
    "  initial_conditions=pd.read_csv(old_parameters_file_path)\n",
    "  data = pd.read_csv(file_path, delimiter=' ')\n",
    "  title_data = data.columns[1:]\n",
    "  fitted_conditions = {}\n",
    "  for i, parameter in enumerate(initial_conditions.columns):\n",
    "    print(parameter)\n",
    "    y = data['x'+parameter]\n",
    "    x = data['x']\n",
    "    print(parameter)\n",
    "    try:\n",
    "      initial_parameters = initial_conditions[parameter]\n",
    "      fitted_parameters,_= curve_fit(x_pdf,x,y, p0=initial_parameters, maxfev=1000)\n",
    "      fitted_conditions[parameter] = fitted_parameters\n",
    "      plt.figure()\n",
    "      plt.plot(x,y, label = 'data')\n",
    "      plt.plot(x,x_pdf(x,*fitted_parameters), label='fit')\n",
    "      plt.plot(x,x_pdf(x,*initial_parameters), label='inicial')\n",
    "      plt.ylim(-0.1,1.1)\n",
    "      plt.legend()\n",
    "      #plt.ioff()\n",
    "      image_name = f'graphs/q2_{q2}_param_{parameter}.png'\n",
    "      plt.savefig(image_name)\n",
    "      plt.close()\n",
    "    except:\n",
    "      for j in range(10):\n",
    "        rango = 3\n",
    "        variacion = np.random.random(7)*rango - rango\n",
    "        initial_parameters = initial_conditions[parameter] +variacion\n",
    "        \n",
    "        try: \n",
    "          fitted_parameters,_= curve_fit(x_pdf,x,y, p0=initial_parameters, maxfev=1000)\n",
    "          fitted_conditions[parameter] = fitted_parameters\n",
    "          #print('parametros encontrados!')\n",
    "          plt.figure()\n",
    "          plt.plot(x,y, label = 'data')\n",
    "          plt.plot(x,x_pdf(x,*fitted_parameters), label='fit')\n",
    "          plt.plot(x,x_pdf(x,*initial_parameters), label='inicial')\n",
    "          plt.ylim(-0.1,1.1)\n",
    "          plt.legend()\n",
    "          #plt.ioff()\n",
    "          image_name = f'graphs/q2_{q2}_param_{parameter}.png'\n",
    "          plt.savefig(image_name)\n",
    "          plt.close()\n",
    "          with open('problemas.txt', 'a') as f:\n",
    "            f.write(f'El parametro {parameter} de los datos {file_path} se logró fittear, pero con algunos problemas, revisar la imagen {image_name}\\n')\n",
    "          break\n",
    "        except:\n",
    "          #print('No se encontraron los parametros en la iteracion {}'.format(j))\n",
    "          if j==9:\n",
    "            with open('problemas.txt', 'a') as f:\n",
    "              f.write(f'No se logro fittear la funcion para el parametro {parameter} de los datos {file_path}\\n')\n",
    "            fitted_conditions[parameter] = [0]*7\n",
    "\n",
    "  fitted_conditions = pd.DataFrame(fitted_conditions)\n",
    "  fitted_conditions.to_csv(f'parameters/{q2}.csv', index=False)\n",
    "  old_parameters_file_path = f'parameters/{q2}.csv'"
   ]
  },
  {
   "cell_type": "code",
   "execution_count": 12,
   "metadata": {},
   "outputs": [
    {
     "name": "stdout",
     "output_type": "stream",
     "text": [
      "Done :)\n"
     ]
    }
   ],
   "source": [
    "print(\"Done :)\")"
   ]
  },
  {
   "cell_type": "code",
   "execution_count": null,
   "metadata": {},
   "outputs": [],
   "source": []
  }
 ],
 "metadata": {
  "colab": {
   "name": "prueba_gatota.ipynb",
   "provenance": []
  },
  "kernelspec": {
   "display_name": "Python 3 (ipykernel)",
   "language": "python",
   "name": "python3"
  },
  "language_info": {
   "codemirror_mode": {
    "name": "ipython",
    "version": 3
   },
   "file_extension": ".py",
   "mimetype": "text/x-python",
   "name": "python",
   "nbconvert_exporter": "python",
   "pygments_lexer": "ipython3",
   "version": "3.10.2"
  }
 },
 "nbformat": 4,
 "nbformat_minor": 1
}
