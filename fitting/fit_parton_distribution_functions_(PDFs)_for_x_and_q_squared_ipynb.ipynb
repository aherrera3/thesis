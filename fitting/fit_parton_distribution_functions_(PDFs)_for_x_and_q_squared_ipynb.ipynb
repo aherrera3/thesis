{
 "cells": [
  {
   "cell_type": "raw",
   "metadata": {
    "id": "g0_o0s4l4um5"
   },
   "source": [
    "import os\n",
    "import numpy as np\n",
    "import matplotlib.pyplot as plt\n",
    "import pandas as pd\n",
    "import scipy.odr as odr\n",
    "from glob import glob\n",
    "import re\n",
    "from tqdm import tqdm\n",
    "import ipywidgets as wg\n",
    "from IPython.display import display \n",
    "np.seterr(all=\"ignore\")               # Set how floating-point errors are handled: ignore invalid float operations\n",
    "plt.rcParams[\"figure.dpi\"] = 130      # Set the resolution to all figures in dots-per-inch"
   ]
  },
  {
   "cell_type": "code",
   "execution_count": 2,
   "metadata": {
    "colab": {
     "base_uri": "https://localhost:8080/"
    },
    "id": "nHf5hhZR47-o",
    "outputId": "645052dc-5526-4fa2-cfee-a5270fcdd962"
   },
   "outputs": [
    {
     "name": "stdout",
     "output_type": "stream",
     "text": [
      "fatal: destination path 'qcdnum-17-01-14' already exists and is not an empty directory.\n"
     ]
    }
   ],
   "source": [
    "!git clone https://github.com/aherrera3/qcdnum-17-01-14"
   ]
  },
  {
   "cell_type": "markdown",
   "metadata": {
    "id": "Ii4tHrOPdbMN"
   },
   "source": [
    "### Aqui saco nombres de pdfs: \"xuv\" , ..., \"xgl\""
   ]
  },
  {
   "cell_type": "code",
   "execution_count": 3,
   "metadata": {
    "colab": {
     "base_uri": "https://localhost:8080/"
    },
    "id": "Sozgqw0Z49ll",
    "outputId": "8f1ed9bb-4fee-45e8-cc6a-1470d1abe911"
   },
   "outputs": [
    {
     "data": {
      "text/plain": [
       "array(['xuv', 'xdv', 'xubar', 'xdbar', 'xgl'], dtype=object)"
      ]
     },
     "execution_count": 3,
     "metadata": {},
     "output_type": "execute_result"
    }
   ],
   "source": [
    "filenames = {}\n",
    "for fname in glob(\"qcdnum-17-01-14/output/*\"):\n",
    "    filenames[float(re.search(\"(?<=_)[\\d\\.*]+(?=.csv)\",fname).group(0))]=fname\n",
    "pdfnames=pd.read_csv(fname, sep=\" \").columns.values[1:]\n",
    "pdfnames"
   ]
  },
  {
   "cell_type": "markdown",
   "metadata": {
    "id": "_OK7rGXvaLSv"
   },
   "source": [
    "# Figures for the fitted PDFs\n",
    "#### It does not makes any fit"
   ]
  },
  {
   "cell_type": "code",
   "execution_count": 4,
   "metadata": {
    "id": "2rFCR0ZYhwSw"
   },
   "outputs": [],
   "source": [
    "def fit_graphics(x,y,y_fit,title,ylabel,xlabel,xscale,save,show):\n",
    "    # figures\n",
    "    fig, ax = plt.subplots(\n",
    "        nrows=2,                                # set two horizontal axes\n",
    "        figsize=(7,7),\n",
    "        sharex=True,                            # x axis will be shared among all subplots.\n",
    "        gridspec_kw={\"height_ratios\":[4,2]}     # different size for upper and bottom axes\n",
    "    )\n",
    "\n",
    "    # upper graph: the fits\n",
    "    plt.sca(ax[0])                                    # set the current axes to axis=0\n",
    "    plt.title(title, fontsize=20)\n",
    "    plt.plot(x, y_fit, c='k', linestyle=(0,(5,5)), label=\"fitted data\")\n",
    "    plt.scatter(x, y, s=3, label=\"original data\")\n",
    "    plt.ylabel(ylabel, fontsize=18)\n",
    "    plt.legend()\n",
    "\n",
    "    # bottom graph: the residuals\n",
    "    plt.sca(ax[1])                                    # set the current axes to axis=1\n",
    "    plt.scatter(x, y_fit-y, s=3)\n",
    "    plt.xlabel(xlabel, fontsize=15)\n",
    "\n",
    "    #fig.suptitle(\"Residuals\")\n",
    "    plt.xscale(xscale)\n",
    "    plt.tight_layout()                                \n",
    "    plt.savefig(save)\n",
    "    plt.show() if show else plt.close()"
   ]
  },
  {
   "cell_type": "code",
   "execution_count": 5,
   "metadata": {
    "id": "MEhBbBlR6Ap-"
   },
   "outputs": [],
   "source": [
    "# PDFs parametrization\n",
    "def model_pdf_for_x(B, x):\n",
    "    tolerance = 1e-6       # TODO: necessary? #Supongo que es para que no redonde \n",
    "    return (1-x+tolerance)**B[2] * x**B[1] * B[0] * (1 + B[3]*x + B[4]*x**2 + B[5]*np.log(x) + B[6]*np.log(x)**2)"
   ]
  },
  {
   "cell_type": "code",
   "execution_count": 6,
   "metadata": {
    "id": "0_xiuRvkClmH"
   },
   "outputs": [],
   "source": [
    "initial_parameters={\n",
    "      'xuv':[1.0, 0.05,   2.0, 4.0 , -6.5, 0.17  , 0.028],\n",
    "     'xdv': [1.5, 0.003,   6.2, -2.0 , 18.0, 0.2   , 0.02],\n",
    "     'xubar':[2.092522,0.146939,6.128849,-2.546240,1.990240,0.307638,0.045121],\n",
    "     'xdbar':[    4.0        , 0.1,  15 , -3.6  , 5.3, 0.3 , 0.03],\n",
    "     'xgl':[132.0, 0.52,  11.0, -2.5 , 4.8, 0.48 , 0.06]\n",
    "}"
   ]
  },
  {
   "cell_type": "code",
   "execution_count": 7,
   "metadata": {
    "id": "_uzS2M8ODeWJ"
   },
   "outputs": [
    {
     "name": "stderr",
     "output_type": "stream",
     "text": [
      "/tmp/ipykernel_12850/2548507909.py:20: FutureWarning: The frame.append method is deprecated and will be removed from pandas in a future version. Use pandas.concat instead.\n",
      "  betas_fit_pdf_for_x[pdfname]=betas_fit_pdf_for_x[pdfname].append(\n",
      "/tmp/ipykernel_12850/2548507909.py:20: FutureWarning: The frame.append method is deprecated and will be removed from pandas in a future version. Use pandas.concat instead.\n",
      "  betas_fit_pdf_for_x[pdfname]=betas_fit_pdf_for_x[pdfname].append(\n",
      "/tmp/ipykernel_12850/2548507909.py:20: FutureWarning: The frame.append method is deprecated and will be removed from pandas in a future version. Use pandas.concat instead.\n",
      "  betas_fit_pdf_for_x[pdfname]=betas_fit_pdf_for_x[pdfname].append(\n",
      "/tmp/ipykernel_12850/2548507909.py:20: FutureWarning: The frame.append method is deprecated and will be removed from pandas in a future version. Use pandas.concat instead.\n",
      "  betas_fit_pdf_for_x[pdfname]=betas_fit_pdf_for_x[pdfname].append(\n",
      "/tmp/ipykernel_12850/2548507909.py:20: FutureWarning: The frame.append method is deprecated and will be removed from pandas in a future version. Use pandas.concat instead.\n",
      "  betas_fit_pdf_for_x[pdfname]=betas_fit_pdf_for_x[pdfname].append(\n",
      "/tmp/ipykernel_12850/2548507909.py:20: FutureWarning: The frame.append method is deprecated and will be removed from pandas in a future version. Use pandas.concat instead.\n",
      "  betas_fit_pdf_for_x[pdfname]=betas_fit_pdf_for_x[pdfname].append(\n",
      "/tmp/ipykernel_12850/2548507909.py:20: FutureWarning: The frame.append method is deprecated and will be removed from pandas in a future version. Use pandas.concat instead.\n",
      "  betas_fit_pdf_for_x[pdfname]=betas_fit_pdf_for_x[pdfname].append(\n",
      "/tmp/ipykernel_12850/2548507909.py:20: FutureWarning: The frame.append method is deprecated and will be removed from pandas in a future version. Use pandas.concat instead.\n",
      "  betas_fit_pdf_for_x[pdfname]=betas_fit_pdf_for_x[pdfname].append(\n",
      "/tmp/ipykernel_12850/2548507909.py:20: FutureWarning: The frame.append method is deprecated and will be removed from pandas in a future version. Use pandas.concat instead.\n",
      "  betas_fit_pdf_for_x[pdfname]=betas_fit_pdf_for_x[pdfname].append(\n",
      "/tmp/ipykernel_12850/2548507909.py:20: FutureWarning: The frame.append method is deprecated and will be removed from pandas in a future version. Use pandas.concat instead.\n",
      "  betas_fit_pdf_for_x[pdfname]=betas_fit_pdf_for_x[pdfname].append(\n",
      "/tmp/ipykernel_12850/2548507909.py:20: FutureWarning: The frame.append method is deprecated and will be removed from pandas in a future version. Use pandas.concat instead.\n",
      "  betas_fit_pdf_for_x[pdfname]=betas_fit_pdf_for_x[pdfname].append(\n",
      "/tmp/ipykernel_12850/2548507909.py:20: FutureWarning: The frame.append method is deprecated and will be removed from pandas in a future version. Use pandas.concat instead.\n",
      "  betas_fit_pdf_for_x[pdfname]=betas_fit_pdf_for_x[pdfname].append(\n",
      "/tmp/ipykernel_12850/2548507909.py:20: FutureWarning: The frame.append method is deprecated and will be removed from pandas in a future version. Use pandas.concat instead.\n",
      "  betas_fit_pdf_for_x[pdfname]=betas_fit_pdf_for_x[pdfname].append(\n",
      "/tmp/ipykernel_12850/2548507909.py:20: FutureWarning: The frame.append method is deprecated and will be removed from pandas in a future version. Use pandas.concat instead.\n",
      "  betas_fit_pdf_for_x[pdfname]=betas_fit_pdf_for_x[pdfname].append(\n",
      "/tmp/ipykernel_12850/2548507909.py:20: FutureWarning: The frame.append method is deprecated and will be removed from pandas in a future version. Use pandas.concat instead.\n",
      "  betas_fit_pdf_for_x[pdfname]=betas_fit_pdf_for_x[pdfname].append(\n",
      "/tmp/ipykernel_12850/2548507909.py:20: FutureWarning: The frame.append method is deprecated and will be removed from pandas in a future version. Use pandas.concat instead.\n",
      "  betas_fit_pdf_for_x[pdfname]=betas_fit_pdf_for_x[pdfname].append(\n",
      "/tmp/ipykernel_12850/2548507909.py:20: FutureWarning: The frame.append method is deprecated and will be removed from pandas in a future version. Use pandas.concat instead.\n",
      "  betas_fit_pdf_for_x[pdfname]=betas_fit_pdf_for_x[pdfname].append(\n",
      "/tmp/ipykernel_12850/2548507909.py:20: FutureWarning: The frame.append method is deprecated and will be removed from pandas in a future version. Use pandas.concat instead.\n",
      "  betas_fit_pdf_for_x[pdfname]=betas_fit_pdf_for_x[pdfname].append(\n",
      "/tmp/ipykernel_12850/2548507909.py:20: FutureWarning: The frame.append method is deprecated and will be removed from pandas in a future version. Use pandas.concat instead.\n",
      "  betas_fit_pdf_for_x[pdfname]=betas_fit_pdf_for_x[pdfname].append(\n",
      "/tmp/ipykernel_12850/2548507909.py:20: FutureWarning: The frame.append method is deprecated and will be removed from pandas in a future version. Use pandas.concat instead.\n",
      "  betas_fit_pdf_for_x[pdfname]=betas_fit_pdf_for_x[pdfname].append(\n",
      "/tmp/ipykernel_12850/2548507909.py:20: FutureWarning: The frame.append method is deprecated and will be removed from pandas in a future version. Use pandas.concat instead.\n",
      "  betas_fit_pdf_for_x[pdfname]=betas_fit_pdf_for_x[pdfname].append(\n",
      "/tmp/ipykernel_12850/2548507909.py:20: FutureWarning: The frame.append method is deprecated and will be removed from pandas in a future version. Use pandas.concat instead.\n",
      "  betas_fit_pdf_for_x[pdfname]=betas_fit_pdf_for_x[pdfname].append(\n",
      "/tmp/ipykernel_12850/2548507909.py:20: FutureWarning: The frame.append method is deprecated and will be removed from pandas in a future version. Use pandas.concat instead.\n",
      "  betas_fit_pdf_for_x[pdfname]=betas_fit_pdf_for_x[pdfname].append(\n",
      "/tmp/ipykernel_12850/2548507909.py:20: FutureWarning: The frame.append method is deprecated and will be removed from pandas in a future version. Use pandas.concat instead.\n",
      "  betas_fit_pdf_for_x[pdfname]=betas_fit_pdf_for_x[pdfname].append(\n",
      "/tmp/ipykernel_12850/2548507909.py:20: FutureWarning: The frame.append method is deprecated and will be removed from pandas in a future version. Use pandas.concat instead.\n",
      "  betas_fit_pdf_for_x[pdfname]=betas_fit_pdf_for_x[pdfname].append(\n",
      "/tmp/ipykernel_12850/2548507909.py:20: FutureWarning: The frame.append method is deprecated and will be removed from pandas in a future version. Use pandas.concat instead.\n",
      "  betas_fit_pdf_for_x[pdfname]=betas_fit_pdf_for_x[pdfname].append(\n",
      "/tmp/ipykernel_12850/2548507909.py:20: FutureWarning: The frame.append method is deprecated and will be removed from pandas in a future version. Use pandas.concat instead.\n",
      "  betas_fit_pdf_for_x[pdfname]=betas_fit_pdf_for_x[pdfname].append(\n",
      "/tmp/ipykernel_12850/2548507909.py:20: FutureWarning: The frame.append method is deprecated and will be removed from pandas in a future version. Use pandas.concat instead.\n",
      "  betas_fit_pdf_for_x[pdfname]=betas_fit_pdf_for_x[pdfname].append(\n",
      "/tmp/ipykernel_12850/2548507909.py:20: FutureWarning: The frame.append method is deprecated and will be removed from pandas in a future version. Use pandas.concat instead.\n",
      "  betas_fit_pdf_for_x[pdfname]=betas_fit_pdf_for_x[pdfname].append(\n",
      "/tmp/ipykernel_12850/2548507909.py:20: FutureWarning: The frame.append method is deprecated and will be removed from pandas in a future version. Use pandas.concat instead.\n",
      "  betas_fit_pdf_for_x[pdfname]=betas_fit_pdf_for_x[pdfname].append(\n",
      "/tmp/ipykernel_12850/2548507909.py:20: FutureWarning: The frame.append method is deprecated and will be removed from pandas in a future version. Use pandas.concat instead.\n",
      "  betas_fit_pdf_for_x[pdfname]=betas_fit_pdf_for_x[pdfname].append(\n",
      "/tmp/ipykernel_12850/2548507909.py:20: FutureWarning: The frame.append method is deprecated and will be removed from pandas in a future version. Use pandas.concat instead.\n",
      "  betas_fit_pdf_for_x[pdfname]=betas_fit_pdf_for_x[pdfname].append(\n",
      "/tmp/ipykernel_12850/2548507909.py:20: FutureWarning: The frame.append method is deprecated and will be removed from pandas in a future version. Use pandas.concat instead.\n",
      "  betas_fit_pdf_for_x[pdfname]=betas_fit_pdf_for_x[pdfname].append(\n",
      "/tmp/ipykernel_12850/2548507909.py:20: FutureWarning: The frame.append method is deprecated and will be removed from pandas in a future version. Use pandas.concat instead.\n",
      "  betas_fit_pdf_for_x[pdfname]=betas_fit_pdf_for_x[pdfname].append(\n",
      "/tmp/ipykernel_12850/2548507909.py:20: FutureWarning: The frame.append method is deprecated and will be removed from pandas in a future version. Use pandas.concat instead.\n",
      "  betas_fit_pdf_for_x[pdfname]=betas_fit_pdf_for_x[pdfname].append(\n",
      "/tmp/ipykernel_12850/2548507909.py:20: FutureWarning: The frame.append method is deprecated and will be removed from pandas in a future version. Use pandas.concat instead.\n",
      "  betas_fit_pdf_for_x[pdfname]=betas_fit_pdf_for_x[pdfname].append(\n",
      "/tmp/ipykernel_12850/2548507909.py:20: FutureWarning: The frame.append method is deprecated and will be removed from pandas in a future version. Use pandas.concat instead.\n",
      "  betas_fit_pdf_for_x[pdfname]=betas_fit_pdf_for_x[pdfname].append(\n",
      "/tmp/ipykernel_12850/2548507909.py:20: FutureWarning: The frame.append method is deprecated and will be removed from pandas in a future version. Use pandas.concat instead.\n",
      "  betas_fit_pdf_for_x[pdfname]=betas_fit_pdf_for_x[pdfname].append(\n",
      "/tmp/ipykernel_12850/2548507909.py:20: FutureWarning: The frame.append method is deprecated and will be removed from pandas in a future version. Use pandas.concat instead.\n",
      "  betas_fit_pdf_for_x[pdfname]=betas_fit_pdf_for_x[pdfname].append(\n",
      "/tmp/ipykernel_12850/2548507909.py:20: FutureWarning: The frame.append method is deprecated and will be removed from pandas in a future version. Use pandas.concat instead.\n",
      "  betas_fit_pdf_for_x[pdfname]=betas_fit_pdf_for_x[pdfname].append(\n",
      "/tmp/ipykernel_12850/2548507909.py:20: FutureWarning: The frame.append method is deprecated and will be removed from pandas in a future version. Use pandas.concat instead.\n",
      "  betas_fit_pdf_for_x[pdfname]=betas_fit_pdf_for_x[pdfname].append(\n",
      "/tmp/ipykernel_12850/2548507909.py:20: FutureWarning: The frame.append method is deprecated and will be removed from pandas in a future version. Use pandas.concat instead.\n",
      "  betas_fit_pdf_for_x[pdfname]=betas_fit_pdf_for_x[pdfname].append(\n",
      "/tmp/ipykernel_12850/2548507909.py:20: FutureWarning: The frame.append method is deprecated and will be removed from pandas in a future version. Use pandas.concat instead.\n",
      "  betas_fit_pdf_for_x[pdfname]=betas_fit_pdf_for_x[pdfname].append(\n",
      "/tmp/ipykernel_12850/2548507909.py:20: FutureWarning: The frame.append method is deprecated and will be removed from pandas in a future version. Use pandas.concat instead.\n",
      "  betas_fit_pdf_for_x[pdfname]=betas_fit_pdf_for_x[pdfname].append(\n",
      "/tmp/ipykernel_12850/2548507909.py:20: FutureWarning: The frame.append method is deprecated and will be removed from pandas in a future version. Use pandas.concat instead.\n",
      "  betas_fit_pdf_for_x[pdfname]=betas_fit_pdf_for_x[pdfname].append(\n",
      "/tmp/ipykernel_12850/2548507909.py:20: FutureWarning: The frame.append method is deprecated and will be removed from pandas in a future version. Use pandas.concat instead.\n",
      "  betas_fit_pdf_for_x[pdfname]=betas_fit_pdf_for_x[pdfname].append(\n",
      "/tmp/ipykernel_12850/2548507909.py:20: FutureWarning: The frame.append method is deprecated and will be removed from pandas in a future version. Use pandas.concat instead.\n",
      "  betas_fit_pdf_for_x[pdfname]=betas_fit_pdf_for_x[pdfname].append(\n",
      "/tmp/ipykernel_12850/2548507909.py:20: FutureWarning: The frame.append method is deprecated and will be removed from pandas in a future version. Use pandas.concat instead.\n",
      "  betas_fit_pdf_for_x[pdfname]=betas_fit_pdf_for_x[pdfname].append(\n",
      "/tmp/ipykernel_12850/2548507909.py:20: FutureWarning: The frame.append method is deprecated and will be removed from pandas in a future version. Use pandas.concat instead.\n",
      "  betas_fit_pdf_for_x[pdfname]=betas_fit_pdf_for_x[pdfname].append(\n",
      "/tmp/ipykernel_12850/2548507909.py:20: FutureWarning: The frame.append method is deprecated and will be removed from pandas in a future version. Use pandas.concat instead.\n",
      "  betas_fit_pdf_for_x[pdfname]=betas_fit_pdf_for_x[pdfname].append(\n",
      "/tmp/ipykernel_12850/2548507909.py:20: FutureWarning: The frame.append method is deprecated and will be removed from pandas in a future version. Use pandas.concat instead.\n",
      "  betas_fit_pdf_for_x[pdfname]=betas_fit_pdf_for_x[pdfname].append(\n",
      "/tmp/ipykernel_12850/2548507909.py:20: FutureWarning: The frame.append method is deprecated and will be removed from pandas in a future version. Use pandas.concat instead.\n",
      "  betas_fit_pdf_for_x[pdfname]=betas_fit_pdf_for_x[pdfname].append(\n",
      "/tmp/ipykernel_12850/2548507909.py:20: FutureWarning: The frame.append method is deprecated and will be removed from pandas in a future version. Use pandas.concat instead.\n",
      "  betas_fit_pdf_for_x[pdfname]=betas_fit_pdf_for_x[pdfname].append(\n",
      "/tmp/ipykernel_12850/2548507909.py:20: FutureWarning: The frame.append method is deprecated and will be removed from pandas in a future version. Use pandas.concat instead.\n",
      "  betas_fit_pdf_for_x[pdfname]=betas_fit_pdf_for_x[pdfname].append(\n",
      "/tmp/ipykernel_12850/2548507909.py:20: FutureWarning: The frame.append method is deprecated and will be removed from pandas in a future version. Use pandas.concat instead.\n",
      "  betas_fit_pdf_for_x[pdfname]=betas_fit_pdf_for_x[pdfname].append(\n",
      "/tmp/ipykernel_12850/2548507909.py:20: FutureWarning: The frame.append method is deprecated and will be removed from pandas in a future version. Use pandas.concat instead.\n",
      "  betas_fit_pdf_for_x[pdfname]=betas_fit_pdf_for_x[pdfname].append(\n",
      "/tmp/ipykernel_12850/2548507909.py:20: FutureWarning: The frame.append method is deprecated and will be removed from pandas in a future version. Use pandas.concat instead.\n",
      "  betas_fit_pdf_for_x[pdfname]=betas_fit_pdf_for_x[pdfname].append(\n",
      "/tmp/ipykernel_12850/2548507909.py:20: FutureWarning: The frame.append method is deprecated and will be removed from pandas in a future version. Use pandas.concat instead.\n",
      "  betas_fit_pdf_for_x[pdfname]=betas_fit_pdf_for_x[pdfname].append(\n",
      "/tmp/ipykernel_12850/2548507909.py:20: FutureWarning: The frame.append method is deprecated and will be removed from pandas in a future version. Use pandas.concat instead.\n",
      "  betas_fit_pdf_for_x[pdfname]=betas_fit_pdf_for_x[pdfname].append(\n",
      "/tmp/ipykernel_12850/2548507909.py:20: FutureWarning: The frame.append method is deprecated and will be removed from pandas in a future version. Use pandas.concat instead.\n",
      "  betas_fit_pdf_for_x[pdfname]=betas_fit_pdf_for_x[pdfname].append(\n",
      "/tmp/ipykernel_12850/2548507909.py:20: FutureWarning: The frame.append method is deprecated and will be removed from pandas in a future version. Use pandas.concat instead.\n",
      "  betas_fit_pdf_for_x[pdfname]=betas_fit_pdf_for_x[pdfname].append(\n",
      "/tmp/ipykernel_12850/2548507909.py:20: FutureWarning: The frame.append method is deprecated and will be removed from pandas in a future version. Use pandas.concat instead.\n",
      "  betas_fit_pdf_for_x[pdfname]=betas_fit_pdf_for_x[pdfname].append(\n",
      "/tmp/ipykernel_12850/2548507909.py:20: FutureWarning: The frame.append method is deprecated and will be removed from pandas in a future version. Use pandas.concat instead.\n",
      "  betas_fit_pdf_for_x[pdfname]=betas_fit_pdf_for_x[pdfname].append(\n",
      "/tmp/ipykernel_12850/2548507909.py:20: FutureWarning: The frame.append method is deprecated and will be removed from pandas in a future version. Use pandas.concat instead.\n",
      "  betas_fit_pdf_for_x[pdfname]=betas_fit_pdf_for_x[pdfname].append(\n",
      "/tmp/ipykernel_12850/2548507909.py:20: FutureWarning: The frame.append method is deprecated and will be removed from pandas in a future version. Use pandas.concat instead.\n",
      "  betas_fit_pdf_for_x[pdfname]=betas_fit_pdf_for_x[pdfname].append(\n",
      "/tmp/ipykernel_12850/2548507909.py:20: FutureWarning: The frame.append method is deprecated and will be removed from pandas in a future version. Use pandas.concat instead.\n",
      "  betas_fit_pdf_for_x[pdfname]=betas_fit_pdf_for_x[pdfname].append(\n",
      "/tmp/ipykernel_12850/2548507909.py:20: FutureWarning: The frame.append method is deprecated and will be removed from pandas in a future version. Use pandas.concat instead.\n",
      "  betas_fit_pdf_for_x[pdfname]=betas_fit_pdf_for_x[pdfname].append(\n",
      "/tmp/ipykernel_12850/2548507909.py:20: FutureWarning: The frame.append method is deprecated and will be removed from pandas in a future version. Use pandas.concat instead.\n",
      "  betas_fit_pdf_for_x[pdfname]=betas_fit_pdf_for_x[pdfname].append(\n",
      "/tmp/ipykernel_12850/2548507909.py:20: FutureWarning: The frame.append method is deprecated and will be removed from pandas in a future version. Use pandas.concat instead.\n",
      "  betas_fit_pdf_for_x[pdfname]=betas_fit_pdf_for_x[pdfname].append(\n",
      "/tmp/ipykernel_12850/2548507909.py:20: FutureWarning: The frame.append method is deprecated and will be removed from pandas in a future version. Use pandas.concat instead.\n",
      "  betas_fit_pdf_for_x[pdfname]=betas_fit_pdf_for_x[pdfname].append(\n",
      "/tmp/ipykernel_12850/2548507909.py:20: FutureWarning: The frame.append method is deprecated and will be removed from pandas in a future version. Use pandas.concat instead.\n",
      "  betas_fit_pdf_for_x[pdfname]=betas_fit_pdf_for_x[pdfname].append(\n",
      "/tmp/ipykernel_12850/2548507909.py:20: FutureWarning: The frame.append method is deprecated and will be removed from pandas in a future version. Use pandas.concat instead.\n",
      "  betas_fit_pdf_for_x[pdfname]=betas_fit_pdf_for_x[pdfname].append(\n",
      "/tmp/ipykernel_12850/2548507909.py:20: FutureWarning: The frame.append method is deprecated and will be removed from pandas in a future version. Use pandas.concat instead.\n",
      "  betas_fit_pdf_for_x[pdfname]=betas_fit_pdf_for_x[pdfname].append(\n",
      "/tmp/ipykernel_12850/2548507909.py:20: FutureWarning: The frame.append method is deprecated and will be removed from pandas in a future version. Use pandas.concat instead.\n",
      "  betas_fit_pdf_for_x[pdfname]=betas_fit_pdf_for_x[pdfname].append(\n",
      "/tmp/ipykernel_12850/2548507909.py:20: FutureWarning: The frame.append method is deprecated and will be removed from pandas in a future version. Use pandas.concat instead.\n",
      "  betas_fit_pdf_for_x[pdfname]=betas_fit_pdf_for_x[pdfname].append(\n",
      "/tmp/ipykernel_12850/2548507909.py:20: FutureWarning: The frame.append method is deprecated and will be removed from pandas in a future version. Use pandas.concat instead.\n",
      "  betas_fit_pdf_for_x[pdfname]=betas_fit_pdf_for_x[pdfname].append(\n",
      "/tmp/ipykernel_12850/2548507909.py:20: FutureWarning: The frame.append method is deprecated and will be removed from pandas in a future version. Use pandas.concat instead.\n",
      "  betas_fit_pdf_for_x[pdfname]=betas_fit_pdf_for_x[pdfname].append(\n",
      "/tmp/ipykernel_12850/2548507909.py:20: FutureWarning: The frame.append method is deprecated and will be removed from pandas in a future version. Use pandas.concat instead.\n",
      "  betas_fit_pdf_for_x[pdfname]=betas_fit_pdf_for_x[pdfname].append(\n",
      "/tmp/ipykernel_12850/2548507909.py:20: FutureWarning: The frame.append method is deprecated and will be removed from pandas in a future version. Use pandas.concat instead.\n",
      "  betas_fit_pdf_for_x[pdfname]=betas_fit_pdf_for_x[pdfname].append(\n",
      "/tmp/ipykernel_12850/2548507909.py:20: FutureWarning: The frame.append method is deprecated and will be removed from pandas in a future version. Use pandas.concat instead.\n",
      "  betas_fit_pdf_for_x[pdfname]=betas_fit_pdf_for_x[pdfname].append(\n",
      "/tmp/ipykernel_12850/2548507909.py:20: FutureWarning: The frame.append method is deprecated and will be removed from pandas in a future version. Use pandas.concat instead.\n",
      "  betas_fit_pdf_for_x[pdfname]=betas_fit_pdf_for_x[pdfname].append(\n",
      "/tmp/ipykernel_12850/2548507909.py:20: FutureWarning: The frame.append method is deprecated and will be removed from pandas in a future version. Use pandas.concat instead.\n",
      "  betas_fit_pdf_for_x[pdfname]=betas_fit_pdf_for_x[pdfname].append(\n",
      "/tmp/ipykernel_12850/2548507909.py:20: FutureWarning: The frame.append method is deprecated and will be removed from pandas in a future version. Use pandas.concat instead.\n",
      "  betas_fit_pdf_for_x[pdfname]=betas_fit_pdf_for_x[pdfname].append(\n",
      "/tmp/ipykernel_12850/2548507909.py:20: FutureWarning: The frame.append method is deprecated and will be removed from pandas in a future version. Use pandas.concat instead.\n",
      "  betas_fit_pdf_for_x[pdfname]=betas_fit_pdf_for_x[pdfname].append(\n",
      "/tmp/ipykernel_12850/2548507909.py:20: FutureWarning: The frame.append method is deprecated and will be removed from pandas in a future version. Use pandas.concat instead.\n",
      "  betas_fit_pdf_for_x[pdfname]=betas_fit_pdf_for_x[pdfname].append(\n",
      "/tmp/ipykernel_12850/2548507909.py:20: FutureWarning: The frame.append method is deprecated and will be removed from pandas in a future version. Use pandas.concat instead.\n",
      "  betas_fit_pdf_for_x[pdfname]=betas_fit_pdf_for_x[pdfname].append(\n",
      "/tmp/ipykernel_12850/2548507909.py:20: FutureWarning: The frame.append method is deprecated and will be removed from pandas in a future version. Use pandas.concat instead.\n",
      "  betas_fit_pdf_for_x[pdfname]=betas_fit_pdf_for_x[pdfname].append(\n",
      "/tmp/ipykernel_12850/2548507909.py:20: FutureWarning: The frame.append method is deprecated and will be removed from pandas in a future version. Use pandas.concat instead.\n",
      "  betas_fit_pdf_for_x[pdfname]=betas_fit_pdf_for_x[pdfname].append(\n",
      "/tmp/ipykernel_12850/2548507909.py:20: FutureWarning: The frame.append method is deprecated and will be removed from pandas in a future version. Use pandas.concat instead.\n",
      "  betas_fit_pdf_for_x[pdfname]=betas_fit_pdf_for_x[pdfname].append(\n",
      "/tmp/ipykernel_12850/2548507909.py:20: FutureWarning: The frame.append method is deprecated and will be removed from pandas in a future version. Use pandas.concat instead.\n",
      "  betas_fit_pdf_for_x[pdfname]=betas_fit_pdf_for_x[pdfname].append(\n",
      "/tmp/ipykernel_12850/2548507909.py:20: FutureWarning: The frame.append method is deprecated and will be removed from pandas in a future version. Use pandas.concat instead.\n",
      "  betas_fit_pdf_for_x[pdfname]=betas_fit_pdf_for_x[pdfname].append(\n",
      "/tmp/ipykernel_12850/2548507909.py:20: FutureWarning: The frame.append method is deprecated and will be removed from pandas in a future version. Use pandas.concat instead.\n",
      "  betas_fit_pdf_for_x[pdfname]=betas_fit_pdf_for_x[pdfname].append(\n",
      "/tmp/ipykernel_12850/2548507909.py:20: FutureWarning: The frame.append method is deprecated and will be removed from pandas in a future version. Use pandas.concat instead.\n",
      "  betas_fit_pdf_for_x[pdfname]=betas_fit_pdf_for_x[pdfname].append(\n",
      "/tmp/ipykernel_12850/2548507909.py:20: FutureWarning: The frame.append method is deprecated and will be removed from pandas in a future version. Use pandas.concat instead.\n",
      "  betas_fit_pdf_for_x[pdfname]=betas_fit_pdf_for_x[pdfname].append(\n",
      "/tmp/ipykernel_12850/2548507909.py:20: FutureWarning: The frame.append method is deprecated and will be removed from pandas in a future version. Use pandas.concat instead.\n",
      "  betas_fit_pdf_for_x[pdfname]=betas_fit_pdf_for_x[pdfname].append(\n",
      "/tmp/ipykernel_12850/2548507909.py:20: FutureWarning: The frame.append method is deprecated and will be removed from pandas in a future version. Use pandas.concat instead.\n",
      "  betas_fit_pdf_for_x[pdfname]=betas_fit_pdf_for_x[pdfname].append(\n",
      "/tmp/ipykernel_12850/2548507909.py:20: FutureWarning: The frame.append method is deprecated and will be removed from pandas in a future version. Use pandas.concat instead.\n",
      "  betas_fit_pdf_for_x[pdfname]=betas_fit_pdf_for_x[pdfname].append(\n",
      "/tmp/ipykernel_12850/2548507909.py:20: FutureWarning: The frame.append method is deprecated and will be removed from pandas in a future version. Use pandas.concat instead.\n",
      "  betas_fit_pdf_for_x[pdfname]=betas_fit_pdf_for_x[pdfname].append(\n",
      "/tmp/ipykernel_12850/2548507909.py:20: FutureWarning: The frame.append method is deprecated and will be removed from pandas in a future version. Use pandas.concat instead.\n",
      "  betas_fit_pdf_for_x[pdfname]=betas_fit_pdf_for_x[pdfname].append(\n",
      "/tmp/ipykernel_12850/2548507909.py:20: FutureWarning: The frame.append method is deprecated and will be removed from pandas in a future version. Use pandas.concat instead.\n",
      "  betas_fit_pdf_for_x[pdfname]=betas_fit_pdf_for_x[pdfname].append(\n",
      "/tmp/ipykernel_12850/2548507909.py:20: FutureWarning: The frame.append method is deprecated and will be removed from pandas in a future version. Use pandas.concat instead.\n",
      "  betas_fit_pdf_for_x[pdfname]=betas_fit_pdf_for_x[pdfname].append(\n",
      "/tmp/ipykernel_12850/2548507909.py:20: FutureWarning: The frame.append method is deprecated and will be removed from pandas in a future version. Use pandas.concat instead.\n",
      "  betas_fit_pdf_for_x[pdfname]=betas_fit_pdf_for_x[pdfname].append(\n",
      "/tmp/ipykernel_12850/2548507909.py:20: FutureWarning: The frame.append method is deprecated and will be removed from pandas in a future version. Use pandas.concat instead.\n",
      "  betas_fit_pdf_for_x[pdfname]=betas_fit_pdf_for_x[pdfname].append(\n",
      "/tmp/ipykernel_12850/2548507909.py:20: FutureWarning: The frame.append method is deprecated and will be removed from pandas in a future version. Use pandas.concat instead.\n",
      "  betas_fit_pdf_for_x[pdfname]=betas_fit_pdf_for_x[pdfname].append(\n",
      "/tmp/ipykernel_12850/2548507909.py:20: FutureWarning: The frame.append method is deprecated and will be removed from pandas in a future version. Use pandas.concat instead.\n",
      "  betas_fit_pdf_for_x[pdfname]=betas_fit_pdf_for_x[pdfname].append(\n",
      "/tmp/ipykernel_12850/2548507909.py:20: FutureWarning: The frame.append method is deprecated and will be removed from pandas in a future version. Use pandas.concat instead.\n",
      "  betas_fit_pdf_for_x[pdfname]=betas_fit_pdf_for_x[pdfname].append(\n",
      "/tmp/ipykernel_12850/2548507909.py:20: FutureWarning: The frame.append method is deprecated and will be removed from pandas in a future version. Use pandas.concat instead.\n",
      "  betas_fit_pdf_for_x[pdfname]=betas_fit_pdf_for_x[pdfname].append(\n",
      "/tmp/ipykernel_12850/2548507909.py:20: FutureWarning: The frame.append method is deprecated and will be removed from pandas in a future version. Use pandas.concat instead.\n",
      "  betas_fit_pdf_for_x[pdfname]=betas_fit_pdf_for_x[pdfname].append(\n",
      "/tmp/ipykernel_12850/2548507909.py:20: FutureWarning: The frame.append method is deprecated and will be removed from pandas in a future version. Use pandas.concat instead.\n",
      "  betas_fit_pdf_for_x[pdfname]=betas_fit_pdf_for_x[pdfname].append(\n",
      "/tmp/ipykernel_12850/2548507909.py:20: FutureWarning: The frame.append method is deprecated and will be removed from pandas in a future version. Use pandas.concat instead.\n",
      "  betas_fit_pdf_for_x[pdfname]=betas_fit_pdf_for_x[pdfname].append(\n",
      "/tmp/ipykernel_12850/2548507909.py:20: FutureWarning: The frame.append method is deprecated and will be removed from pandas in a future version. Use pandas.concat instead.\n",
      "  betas_fit_pdf_for_x[pdfname]=betas_fit_pdf_for_x[pdfname].append(\n",
      "/tmp/ipykernel_12850/2548507909.py:20: FutureWarning: The frame.append method is deprecated and will be removed from pandas in a future version. Use pandas.concat instead.\n",
      "  betas_fit_pdf_for_x[pdfname]=betas_fit_pdf_for_x[pdfname].append(\n",
      "/tmp/ipykernel_12850/2548507909.py:20: FutureWarning: The frame.append method is deprecated and will be removed from pandas in a future version. Use pandas.concat instead.\n",
      "  betas_fit_pdf_for_x[pdfname]=betas_fit_pdf_for_x[pdfname].append(\n",
      "/tmp/ipykernel_12850/2548507909.py:20: FutureWarning: The frame.append method is deprecated and will be removed from pandas in a future version. Use pandas.concat instead.\n",
      "  betas_fit_pdf_for_x[pdfname]=betas_fit_pdf_for_x[pdfname].append(\n",
      "/tmp/ipykernel_12850/2548507909.py:20: FutureWarning: The frame.append method is deprecated and will be removed from pandas in a future version. Use pandas.concat instead.\n",
      "  betas_fit_pdf_for_x[pdfname]=betas_fit_pdf_for_x[pdfname].append(\n",
      "/tmp/ipykernel_12850/2548507909.py:20: FutureWarning: The frame.append method is deprecated and will be removed from pandas in a future version. Use pandas.concat instead.\n",
      "  betas_fit_pdf_for_x[pdfname]=betas_fit_pdf_for_x[pdfname].append(\n",
      "/tmp/ipykernel_12850/2548507909.py:20: FutureWarning: The frame.append method is deprecated and will be removed from pandas in a future version. Use pandas.concat instead.\n",
      "  betas_fit_pdf_for_x[pdfname]=betas_fit_pdf_for_x[pdfname].append(\n",
      "/tmp/ipykernel_12850/2548507909.py:20: FutureWarning: The frame.append method is deprecated and will be removed from pandas in a future version. Use pandas.concat instead.\n",
      "  betas_fit_pdf_for_x[pdfname]=betas_fit_pdf_for_x[pdfname].append(\n",
      "/tmp/ipykernel_12850/2548507909.py:20: FutureWarning: The frame.append method is deprecated and will be removed from pandas in a future version. Use pandas.concat instead.\n",
      "  betas_fit_pdf_for_x[pdfname]=betas_fit_pdf_for_x[pdfname].append(\n",
      "/tmp/ipykernel_12850/2548507909.py:20: FutureWarning: The frame.append method is deprecated and will be removed from pandas in a future version. Use pandas.concat instead.\n",
      "  betas_fit_pdf_for_x[pdfname]=betas_fit_pdf_for_x[pdfname].append(\n",
      "/tmp/ipykernel_12850/2548507909.py:20: FutureWarning: The frame.append method is deprecated and will be removed from pandas in a future version. Use pandas.concat instead.\n",
      "  betas_fit_pdf_for_x[pdfname]=betas_fit_pdf_for_x[pdfname].append(\n",
      "/tmp/ipykernel_12850/2548507909.py:20: FutureWarning: The frame.append method is deprecated and will be removed from pandas in a future version. Use pandas.concat instead.\n",
      "  betas_fit_pdf_for_x[pdfname]=betas_fit_pdf_for_x[pdfname].append(\n",
      "/tmp/ipykernel_12850/2548507909.py:20: FutureWarning: The frame.append method is deprecated and will be removed from pandas in a future version. Use pandas.concat instead.\n",
      "  betas_fit_pdf_for_x[pdfname]=betas_fit_pdf_for_x[pdfname].append(\n",
      "/tmp/ipykernel_12850/2548507909.py:20: FutureWarning: The frame.append method is deprecated and will be removed from pandas in a future version. Use pandas.concat instead.\n",
      "  betas_fit_pdf_for_x[pdfname]=betas_fit_pdf_for_x[pdfname].append(\n",
      "/tmp/ipykernel_12850/2548507909.py:20: FutureWarning: The frame.append method is deprecated and will be removed from pandas in a future version. Use pandas.concat instead.\n",
      "  betas_fit_pdf_for_x[pdfname]=betas_fit_pdf_for_x[pdfname].append(\n",
      "/tmp/ipykernel_12850/2548507909.py:20: FutureWarning: The frame.append method is deprecated and will be removed from pandas in a future version. Use pandas.concat instead.\n",
      "  betas_fit_pdf_for_x[pdfname]=betas_fit_pdf_for_x[pdfname].append(\n",
      "/tmp/ipykernel_12850/2548507909.py:20: FutureWarning: The frame.append method is deprecated and will be removed from pandas in a future version. Use pandas.concat instead.\n",
      "  betas_fit_pdf_for_x[pdfname]=betas_fit_pdf_for_x[pdfname].append(\n",
      "/tmp/ipykernel_12850/2548507909.py:20: FutureWarning: The frame.append method is deprecated and will be removed from pandas in a future version. Use pandas.concat instead.\n",
      "  betas_fit_pdf_for_x[pdfname]=betas_fit_pdf_for_x[pdfname].append(\n",
      "/tmp/ipykernel_12850/2548507909.py:20: FutureWarning: The frame.append method is deprecated and will be removed from pandas in a future version. Use pandas.concat instead.\n",
      "  betas_fit_pdf_for_x[pdfname]=betas_fit_pdf_for_x[pdfname].append(\n",
      "/tmp/ipykernel_12850/2548507909.py:20: FutureWarning: The frame.append method is deprecated and will be removed from pandas in a future version. Use pandas.concat instead.\n",
      "  betas_fit_pdf_for_x[pdfname]=betas_fit_pdf_for_x[pdfname].append(\n",
      "/tmp/ipykernel_12850/2548507909.py:20: FutureWarning: The frame.append method is deprecated and will be removed from pandas in a future version. Use pandas.concat instead.\n",
      "  betas_fit_pdf_for_x[pdfname]=betas_fit_pdf_for_x[pdfname].append(\n",
      "/tmp/ipykernel_12850/2548507909.py:20: FutureWarning: The frame.append method is deprecated and will be removed from pandas in a future version. Use pandas.concat instead.\n",
      "  betas_fit_pdf_for_x[pdfname]=betas_fit_pdf_for_x[pdfname].append(\n",
      "/tmp/ipykernel_12850/2548507909.py:20: FutureWarning: The frame.append method is deprecated and will be removed from pandas in a future version. Use pandas.concat instead.\n",
      "  betas_fit_pdf_for_x[pdfname]=betas_fit_pdf_for_x[pdfname].append(\n",
      "/tmp/ipykernel_12850/2548507909.py:20: FutureWarning: The frame.append method is deprecated and will be removed from pandas in a future version. Use pandas.concat instead.\n",
      "  betas_fit_pdf_for_x[pdfname]=betas_fit_pdf_for_x[pdfname].append(\n",
      "/tmp/ipykernel_12850/2548507909.py:20: FutureWarning: The frame.append method is deprecated and will be removed from pandas in a future version. Use pandas.concat instead.\n",
      "  betas_fit_pdf_for_x[pdfname]=betas_fit_pdf_for_x[pdfname].append(\n",
      "/tmp/ipykernel_12850/2548507909.py:20: FutureWarning: The frame.append method is deprecated and will be removed from pandas in a future version. Use pandas.concat instead.\n",
      "  betas_fit_pdf_for_x[pdfname]=betas_fit_pdf_for_x[pdfname].append(\n",
      "/tmp/ipykernel_12850/2548507909.py:20: FutureWarning: The frame.append method is deprecated and will be removed from pandas in a future version. Use pandas.concat instead.\n",
      "  betas_fit_pdf_for_x[pdfname]=betas_fit_pdf_for_x[pdfname].append(\n",
      "/tmp/ipykernel_12850/2548507909.py:20: FutureWarning: The frame.append method is deprecated and will be removed from pandas in a future version. Use pandas.concat instead.\n",
      "  betas_fit_pdf_for_x[pdfname]=betas_fit_pdf_for_x[pdfname].append(\n",
      "/tmp/ipykernel_12850/2548507909.py:20: FutureWarning: The frame.append method is deprecated and will be removed from pandas in a future version. Use pandas.concat instead.\n",
      "  betas_fit_pdf_for_x[pdfname]=betas_fit_pdf_for_x[pdfname].append(\n",
      "/tmp/ipykernel_12850/2548507909.py:20: FutureWarning: The frame.append method is deprecated and will be removed from pandas in a future version. Use pandas.concat instead.\n",
      "  betas_fit_pdf_for_x[pdfname]=betas_fit_pdf_for_x[pdfname].append(\n",
      "/tmp/ipykernel_12850/2548507909.py:20: FutureWarning: The frame.append method is deprecated and will be removed from pandas in a future version. Use pandas.concat instead.\n",
      "  betas_fit_pdf_for_x[pdfname]=betas_fit_pdf_for_x[pdfname].append(\n",
      "/tmp/ipykernel_12850/2548507909.py:20: FutureWarning: The frame.append method is deprecated and will be removed from pandas in a future version. Use pandas.concat instead.\n",
      "  betas_fit_pdf_for_x[pdfname]=betas_fit_pdf_for_x[pdfname].append(\n",
      "/tmp/ipykernel_12850/2548507909.py:20: FutureWarning: The frame.append method is deprecated and will be removed from pandas in a future version. Use pandas.concat instead.\n",
      "  betas_fit_pdf_for_x[pdfname]=betas_fit_pdf_for_x[pdfname].append(\n",
      "/tmp/ipykernel_12850/2548507909.py:20: FutureWarning: The frame.append method is deprecated and will be removed from pandas in a future version. Use pandas.concat instead.\n",
      "  betas_fit_pdf_for_x[pdfname]=betas_fit_pdf_for_x[pdfname].append(\n",
      "/tmp/ipykernel_12850/2548507909.py:20: FutureWarning: The frame.append method is deprecated and will be removed from pandas in a future version. Use pandas.concat instead.\n",
      "  betas_fit_pdf_for_x[pdfname]=betas_fit_pdf_for_x[pdfname].append(\n",
      "/tmp/ipykernel_12850/2548507909.py:20: FutureWarning: The frame.append method is deprecated and will be removed from pandas in a future version. Use pandas.concat instead.\n",
      "  betas_fit_pdf_for_x[pdfname]=betas_fit_pdf_for_x[pdfname].append(\n",
      "/tmp/ipykernel_12850/2548507909.py:20: FutureWarning: The frame.append method is deprecated and will be removed from pandas in a future version. Use pandas.concat instead.\n",
      "  betas_fit_pdf_for_x[pdfname]=betas_fit_pdf_for_x[pdfname].append(\n",
      "/tmp/ipykernel_12850/2548507909.py:20: FutureWarning: The frame.append method is deprecated and will be removed from pandas in a future version. Use pandas.concat instead.\n",
      "  betas_fit_pdf_for_x[pdfname]=betas_fit_pdf_for_x[pdfname].append(\n",
      "/tmp/ipykernel_12850/2548507909.py:20: FutureWarning: The frame.append method is deprecated and will be removed from pandas in a future version. Use pandas.concat instead.\n",
      "  betas_fit_pdf_for_x[pdfname]=betas_fit_pdf_for_x[pdfname].append(\n",
      "/tmp/ipykernel_12850/2548507909.py:20: FutureWarning: The frame.append method is deprecated and will be removed from pandas in a future version. Use pandas.concat instead.\n",
      "  betas_fit_pdf_for_x[pdfname]=betas_fit_pdf_for_x[pdfname].append(\n",
      "/tmp/ipykernel_12850/2548507909.py:20: FutureWarning: The frame.append method is deprecated and will be removed from pandas in a future version. Use pandas.concat instead.\n",
      "  betas_fit_pdf_for_x[pdfname]=betas_fit_pdf_for_x[pdfname].append(\n",
      "/tmp/ipykernel_12850/2548507909.py:20: FutureWarning: The frame.append method is deprecated and will be removed from pandas in a future version. Use pandas.concat instead.\n",
      "  betas_fit_pdf_for_x[pdfname]=betas_fit_pdf_for_x[pdfname].append(\n",
      "/tmp/ipykernel_12850/2548507909.py:20: FutureWarning: The frame.append method is deprecated and will be removed from pandas in a future version. Use pandas.concat instead.\n",
      "  betas_fit_pdf_for_x[pdfname]=betas_fit_pdf_for_x[pdfname].append(\n",
      "/tmp/ipykernel_12850/2548507909.py:20: FutureWarning: The frame.append method is deprecated and will be removed from pandas in a future version. Use pandas.concat instead.\n",
      "  betas_fit_pdf_for_x[pdfname]=betas_fit_pdf_for_x[pdfname].append(\n",
      "/tmp/ipykernel_12850/2548507909.py:20: FutureWarning: The frame.append method is deprecated and will be removed from pandas in a future version. Use pandas.concat instead.\n",
      "  betas_fit_pdf_for_x[pdfname]=betas_fit_pdf_for_x[pdfname].append(\n",
      "/tmp/ipykernel_12850/2548507909.py:20: FutureWarning: The frame.append method is deprecated and will be removed from pandas in a future version. Use pandas.concat instead.\n",
      "  betas_fit_pdf_for_x[pdfname]=betas_fit_pdf_for_x[pdfname].append(\n",
      "/tmp/ipykernel_12850/2548507909.py:20: FutureWarning: The frame.append method is deprecated and will be removed from pandas in a future version. Use pandas.concat instead.\n",
      "  betas_fit_pdf_for_x[pdfname]=betas_fit_pdf_for_x[pdfname].append(\n",
      "/tmp/ipykernel_12850/2548507909.py:20: FutureWarning: The frame.append method is deprecated and will be removed from pandas in a future version. Use pandas.concat instead.\n",
      "  betas_fit_pdf_for_x[pdfname]=betas_fit_pdf_for_x[pdfname].append(\n",
      "/tmp/ipykernel_12850/2548507909.py:20: FutureWarning: The frame.append method is deprecated and will be removed from pandas in a future version. Use pandas.concat instead.\n",
      "  betas_fit_pdf_for_x[pdfname]=betas_fit_pdf_for_x[pdfname].append(\n",
      "/tmp/ipykernel_12850/2548507909.py:20: FutureWarning: The frame.append method is deprecated and will be removed from pandas in a future version. Use pandas.concat instead.\n",
      "  betas_fit_pdf_for_x[pdfname]=betas_fit_pdf_for_x[pdfname].append(\n",
      "/tmp/ipykernel_12850/2548507909.py:20: FutureWarning: The frame.append method is deprecated and will be removed from pandas in a future version. Use pandas.concat instead.\n",
      "  betas_fit_pdf_for_x[pdfname]=betas_fit_pdf_for_x[pdfname].append(\n",
      "/tmp/ipykernel_12850/2548507909.py:20: FutureWarning: The frame.append method is deprecated and will be removed from pandas in a future version. Use pandas.concat instead.\n",
      "  betas_fit_pdf_for_x[pdfname]=betas_fit_pdf_for_x[pdfname].append(\n",
      "/tmp/ipykernel_12850/2548507909.py:20: FutureWarning: The frame.append method is deprecated and will be removed from pandas in a future version. Use pandas.concat instead.\n",
      "  betas_fit_pdf_for_x[pdfname]=betas_fit_pdf_for_x[pdfname].append(\n",
      "/tmp/ipykernel_12850/2548507909.py:20: FutureWarning: The frame.append method is deprecated and will be removed from pandas in a future version. Use pandas.concat instead.\n",
      "  betas_fit_pdf_for_x[pdfname]=betas_fit_pdf_for_x[pdfname].append(\n",
      "/tmp/ipykernel_12850/2548507909.py:20: FutureWarning: The frame.append method is deprecated and will be removed from pandas in a future version. Use pandas.concat instead.\n",
      "  betas_fit_pdf_for_x[pdfname]=betas_fit_pdf_for_x[pdfname].append(\n",
      "/tmp/ipykernel_12850/2548507909.py:20: FutureWarning: The frame.append method is deprecated and will be removed from pandas in a future version. Use pandas.concat instead.\n",
      "  betas_fit_pdf_for_x[pdfname]=betas_fit_pdf_for_x[pdfname].append(\n",
      "/tmp/ipykernel_12850/2548507909.py:20: FutureWarning: The frame.append method is deprecated and will be removed from pandas in a future version. Use pandas.concat instead.\n",
      "  betas_fit_pdf_for_x[pdfname]=betas_fit_pdf_for_x[pdfname].append(\n",
      "/tmp/ipykernel_12850/2548507909.py:20: FutureWarning: The frame.append method is deprecated and will be removed from pandas in a future version. Use pandas.concat instead.\n",
      "  betas_fit_pdf_for_x[pdfname]=betas_fit_pdf_for_x[pdfname].append(\n",
      "/tmp/ipykernel_12850/2548507909.py:20: FutureWarning: The frame.append method is deprecated and will be removed from pandas in a future version. Use pandas.concat instead.\n",
      "  betas_fit_pdf_for_x[pdfname]=betas_fit_pdf_for_x[pdfname].append(\n",
      "/tmp/ipykernel_12850/2548507909.py:20: FutureWarning: The frame.append method is deprecated and will be removed from pandas in a future version. Use pandas.concat instead.\n",
      "  betas_fit_pdf_for_x[pdfname]=betas_fit_pdf_for_x[pdfname].append(\n",
      "/tmp/ipykernel_12850/2548507909.py:20: FutureWarning: The frame.append method is deprecated and will be removed from pandas in a future version. Use pandas.concat instead.\n",
      "  betas_fit_pdf_for_x[pdfname]=betas_fit_pdf_for_x[pdfname].append(\n",
      "/tmp/ipykernel_12850/2548507909.py:20: FutureWarning: The frame.append method is deprecated and will be removed from pandas in a future version. Use pandas.concat instead.\n",
      "  betas_fit_pdf_for_x[pdfname]=betas_fit_pdf_for_x[pdfname].append(\n",
      "/tmp/ipykernel_12850/2548507909.py:20: FutureWarning: The frame.append method is deprecated and will be removed from pandas in a future version. Use pandas.concat instead.\n",
      "  betas_fit_pdf_for_x[pdfname]=betas_fit_pdf_for_x[pdfname].append(\n",
      "/tmp/ipykernel_12850/2548507909.py:20: FutureWarning: The frame.append method is deprecated and will be removed from pandas in a future version. Use pandas.concat instead.\n",
      "  betas_fit_pdf_for_x[pdfname]=betas_fit_pdf_for_x[pdfname].append(\n",
      "/tmp/ipykernel_12850/2548507909.py:20: FutureWarning: The frame.append method is deprecated and will be removed from pandas in a future version. Use pandas.concat instead.\n",
      "  betas_fit_pdf_for_x[pdfname]=betas_fit_pdf_for_x[pdfname].append(\n"
     ]
    }
   ],
   "source": [
    "betas_fit_pdf_for_x={}\n",
    "column_names=['q_squared','a','b','c','d','e','f','g']\n",
    "for pdfname in pdfnames:\n",
    "    betas_fit_pdf_for_x[pdfname]=pd.DataFrame(columns=column_names)\n",
    "    os.makedirs(f\"./img/{pdfname}/Q2\", exist_ok=True)\n",
    "for q_squared in sorted(filenames.keys()):\n",
    "    data=pd.read_csv(filenames[q_squared], sep=\" \")\n",
    "    for pdfname in pdfnames:\n",
    "        x=data['x']\n",
    "        y=data[pdfname]\n",
    "        # fit and beta parameters\n",
    "        fit=odr.ODR(odr.Data(x, y),\n",
    "                     odr.Model(model_pdf_for_x),\n",
    "                     beta0=initial_parameters[pdfname],\n",
    "                     maxit=5000,\n",
    "                     ifixx=np.zeros(len(data[\"x\"]))\n",
    "                     ).run()\n",
    "        beta=fit.beta  \n",
    "        row=[q_squared]+list(beta)\n",
    "        betas_fit_pdf_for_x[pdfname]=betas_fit_pdf_for_x[pdfname].append(\n",
    "            {column_names[i]:row[i] for i in range(len(column_names))}, ignore_index=True)\n",
    "        fit_graphics(x,y,model_pdf_for_x(beta,x),str(q_squared),pdfname,'$x$','log',f\"./img/{pdfname}/Q2/{q_squared}.png\",False)\n",
    "        #initial_parameters[pdfname]=beta"
   ]
  },
  {
   "cell_type": "markdown",
   "metadata": {
    "id": "1DLwqTuvZidT"
   },
   "source": [
    "# Figures for the fitted parameters"
   ]
  },
  {
   "cell_type": "code",
   "execution_count": 8,
   "metadata": {
    "id": "JE1wGIbwp4xn"
   },
   "outputs": [],
   "source": [
    "def model_parameter(p, q):\n",
    "    x=q+1.5\n",
    "    return -p[0]*np.log(x) +p[1]+ p[2]*x + p[3]*x**2+p[4]*x**(3/2)+p[5]*x**(1/2)"
   ]
  },
  {
   "cell_type": "code",
   "execution_count": null,
   "metadata": {
    "id": "7fz_WdP_nALx"
   },
   "outputs": [],
   "source": [
    "betas_fit_pdf_for_parameters={}\n",
    "for pdfname in pdfnames:\n",
    "    betas_fit_pdf_for_parameters[pdfname]={}\n",
    "    os.makedirs(f\"./img/{pdfname}/parameters\", exist_ok=True)\n",
    "    for parameter in betas_fit_pdf_for_x[pdfname].columns.values[1:]:\n",
    "        y=betas_fit_pdf_for_x[pdfname][parameter]\n",
    "        x=np.log(betas_fit_pdf_for_x[pdfname]['q_squared']/2.56**2)\n",
    "        initial_parameters1=[1,1,1,1,1,1]\n",
    "        fit=odr.ODR(odr.Data(x, y),\n",
    "                    odr.Model(model_parameter),\n",
    "                    beta0=initial_parameters1,\n",
    "                    maxit=5000,\n",
    "                    ).run()\n",
    "        beta=fit.beta\n",
    "        fit_graphics(x,y,model_parameter(beta,x),f\"{pdfname} - {parameter}\",str(parameter),'$Q^2$','linear',f\"./img/{pdfname}/parameters/{parameter}.png\",False)\n",
    "        betas_fit_pdf_for_parameters[pdfname][parameter]=beta"
   ]
  },
  {
   "cell_type": "markdown",
   "metadata": {
    "id": "ujAjr15oZVeA"
   },
   "source": [
    "# Function to integrate"
   ]
  },
  {
   "cell_type": "code",
   "execution_count": 9,
   "metadata": {
    "id": "-lDF67Q_7Vu8"
   },
   "outputs": [],
   "source": [
    "def pdf_for_x_and_q_squared(x,q_squared,pdfname):\n",
    "    parameters=[]\n",
    "    for parameter in betas_fit_pdf_for_parameters[pdfname]:\n",
    "        parameters.append(model_parameter(betas_fit_pdf_for_parameters[pdfname][parameter], np.log(q_squared/2.56**2)))\n",
    "    return model_pdf_for_x(parameters, x)"
   ]
  },
  {
   "cell_type": "markdown",
   "metadata": {
    "id": "dsUpVIPnZGNz"
   },
   "source": [
    "# Results"
   ]
  },
  {
   "cell_type": "code",
   "execution_count": 10,
   "metadata": {
    "id": "DVygAzLbUoMg"
   },
   "outputs": [
    {
     "name": "stdout",
     "output_type": "stream",
     "text": [
      "ERROR! Session/line number was not unique in database. History logging moved to new session 104\n"
     ]
    },
    {
     "ename": "IndexError",
     "evalue": "list index out of range",
     "output_type": "error",
     "traceback": [
      "\u001b[0;31m---------------------------------------------------------------------------\u001b[0m",
      "\u001b[0;31mIndexError\u001b[0m                                Traceback (most recent call last)",
      "Input \u001b[0;32mIn [10]\u001b[0m, in \u001b[0;36m<cell line: 2>\u001b[0;34m()\u001b[0m\n\u001b[1;32m      3\u001b[0m plt\u001b[38;5;241m.\u001b[39mtitle(pdfname)\n\u001b[1;32m      4\u001b[0m \u001b[38;5;28;01mfor\u001b[39;00m q_squared \u001b[38;5;129;01min\u001b[39;00m np\u001b[38;5;241m.\u001b[39mlinspace(\u001b[38;5;241m2.56\u001b[39m,\u001b[38;5;241m1000\u001b[39m,\u001b[38;5;241m100\u001b[39m):\n\u001b[0;32m----> 5\u001b[0m     y\u001b[38;5;241m=\u001b[39m\u001b[43mpdf_for_x_and_q_squared\u001b[49m\u001b[43m(\u001b[49m\u001b[43mx\u001b[49m\u001b[43m,\u001b[49m\u001b[43mq_squared\u001b[49m\u001b[43m,\u001b[49m\u001b[43mpdfname\u001b[49m\u001b[43m)\u001b[49m\n\u001b[1;32m      6\u001b[0m     plt\u001b[38;5;241m.\u001b[39mplot(x,y)\n\u001b[1;32m      7\u001b[0m     plt\u001b[38;5;241m.\u001b[39mxscale(\u001b[38;5;124m'\u001b[39m\u001b[38;5;124mlog\u001b[39m\u001b[38;5;124m'\u001b[39m)\n",
      "Input \u001b[0;32mIn [9]\u001b[0m, in \u001b[0;36mpdf_for_x_and_q_squared\u001b[0;34m(x, q_squared, pdfname)\u001b[0m\n\u001b[1;32m      3\u001b[0m \u001b[38;5;28;01mfor\u001b[39;00m parameter \u001b[38;5;129;01min\u001b[39;00m betas_fit_pdf_for_parameters[pdfname]:\n\u001b[1;32m      4\u001b[0m     parameters\u001b[38;5;241m.\u001b[39mappend(model_parameter(betas_fit_pdf_for_parameters[pdfname][parameter], np\u001b[38;5;241m.\u001b[39mlog(q_squared\u001b[38;5;241m/\u001b[39m\u001b[38;5;241m2.56\u001b[39m\u001b[38;5;241m*\u001b[39m\u001b[38;5;241m*\u001b[39m\u001b[38;5;241m2\u001b[39m)))\n\u001b[0;32m----> 5\u001b[0m \u001b[38;5;28;01mreturn\u001b[39;00m \u001b[43mmodel_pdf_for_x\u001b[49m\u001b[43m(\u001b[49m\u001b[43mparameters\u001b[49m\u001b[43m,\u001b[49m\u001b[43m \u001b[49m\u001b[43mx\u001b[49m\u001b[43m)\u001b[49m\n",
      "Input \u001b[0;32mIn [5]\u001b[0m, in \u001b[0;36mmodel_pdf_for_x\u001b[0;34m(B, x)\u001b[0m\n\u001b[1;32m      2\u001b[0m \u001b[38;5;28;01mdef\u001b[39;00m \u001b[38;5;21mmodel_pdf_for_x\u001b[39m(B, x):\n\u001b[1;32m      3\u001b[0m     tolerance \u001b[38;5;241m=\u001b[39m \u001b[38;5;241m1e-6\u001b[39m       \u001b[38;5;66;03m# TODO: necessary? #Supongo que es para que no redonde \u001b[39;00m\n\u001b[0;32m----> 4\u001b[0m     \u001b[38;5;28;01mreturn\u001b[39;00m (\u001b[38;5;241m1\u001b[39m\u001b[38;5;241m-\u001b[39mx\u001b[38;5;241m+\u001b[39mtolerance)\u001b[38;5;241m*\u001b[39m\u001b[38;5;241m*\u001b[39m\u001b[43mB\u001b[49m\u001b[43m[\u001b[49m\u001b[38;5;241;43m2\u001b[39;49m\u001b[43m]\u001b[49m \u001b[38;5;241m*\u001b[39m x\u001b[38;5;241m*\u001b[39m\u001b[38;5;241m*\u001b[39mB[\u001b[38;5;241m1\u001b[39m] \u001b[38;5;241m*\u001b[39m B[\u001b[38;5;241m0\u001b[39m] \u001b[38;5;241m*\u001b[39m (\u001b[38;5;241m1\u001b[39m \u001b[38;5;241m+\u001b[39m B[\u001b[38;5;241m3\u001b[39m]\u001b[38;5;241m*\u001b[39mx \u001b[38;5;241m+\u001b[39m B[\u001b[38;5;241m4\u001b[39m]\u001b[38;5;241m*\u001b[39mx\u001b[38;5;241m*\u001b[39m\u001b[38;5;241m*\u001b[39m\u001b[38;5;241m2\u001b[39m \u001b[38;5;241m+\u001b[39m B[\u001b[38;5;241m5\u001b[39m]\u001b[38;5;241m*\u001b[39mnp\u001b[38;5;241m.\u001b[39mlog(x) \u001b[38;5;241m+\u001b[39m B[\u001b[38;5;241m6\u001b[39m]\u001b[38;5;241m*\u001b[39mnp\u001b[38;5;241m.\u001b[39mlog(x)\u001b[38;5;241m*\u001b[39m\u001b[38;5;241m*\u001b[39m\u001b[38;5;241m2\u001b[39m)\n",
      "\u001b[0;31mIndexError\u001b[0m: list index out of range"
     ]
    },
    {
     "data": {
      "image/png": "[encoded data removed]",
      "text/plain": [
       "<Figure size 780x520 with 1 Axes>"
      ]
     },
     "metadata": {
      "needs_background": "light"
     },
     "output_type": "display_data"
    }
   ],
   "source": [
    "x=pd.read_csv(filenames[2.56], sep=\" \")['x']\n",
    "for pdfname in pdfnames:\n",
    "    plt.title(pdfname)\n",
    "    for q_squared in np.linspace(2.56,1000,100):\n",
    "        y=pdf_for_x_and_q_squared(x,q_squared,pdfname)\n",
    "        plt.plot(x,y)\n",
    "        plt.xscale('log')\n",
    "    plt.show()"
   ]
  },
  {
   "cell_type": "code",
   "execution_count": null,
   "metadata": {
    "id": "SugYdT3knA29"
   },
   "outputs": [],
   "source": [
    "def xdbar(x,q):\n",
    "    return pdf_for_x_and_q_squared(x,q,'xdbar')"
   ]
  },
  {
   "cell_type": "code",
   "execution_count": null,
   "metadata": {
    "colab": {
     "base_uri": "https://localhost:8080/"
    },
    "id": "4x52pfhxVK3e",
    "outputId": "6691b8e3-498c-4914-f210-d73875411d3b"
   },
   "outputs": [],
   "source": [
    "from scipy import integrate\n",
    "def opts0(*args, **kwargs):\n",
    "    return {'points':[0.2*args[2] + 0.5 + 0.25*args[0]]}\n",
    "integrate.nquad(xdbar, [[0.5,1],[3.5,1000000]], full_output=True)"
   ]
  },
  {
   "cell_type": "code",
   "execution_count": null,
   "metadata": {
    "id": "bjk_cU3yuVoE"
   },
   "outputs": [],
   "source": []
  }
 ],
 "metadata": {
  "colab": {
   "collapsed_sections": [],
   "name": "fit parton distribution functions (PDFs) for x and q_squared.ipynb.ipynb",
   "provenance": []
  },
  "kernelspec": {
   "display_name": "Python 3 (ipykernel)",
   "language": "python",
   "name": "python3"
  },
  "language_info": {
   "codemirror_mode": {
    "name": "ipython",
    "version": 3
   },
   "file_extension": ".py",
   "mimetype": "text/x-python",
   "name": "python",
   "nbconvert_exporter": "python",
   "pygments_lexer": "ipython3",
   "version": "3.10.4"
  }
 },
 "nbformat": 4,
 "nbformat_minor": 4
}
